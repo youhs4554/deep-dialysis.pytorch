{
 "cells": [
  {
   "cell_type": "markdown",
   "id": "2b7425c2",
   "metadata": {},
   "source": [
    "# Run SurvTRACE on SUPPORT dataset"
   ]
  },
  {
   "cell_type": "code",
   "execution_count": 1,
   "id": "7920014d",
   "metadata": {},
   "outputs": [],
   "source": [
    "import pdb\n",
    "from collections import defaultdict\n",
    "import matplotlib.pyplot as plt\n",
    "\n",
    "from survtrace.dataset import load_data\n",
    "from survtrace.evaluate_utils import Evaluator\n",
    "from survtrace.utils import set_random_seed\n",
    "from survtrace.model import SurvTraceSingle\n",
    "from survtrace.train_utils import Trainer\n",
    "from survtrace.config import STConfig\n",
    "\n",
    "# define the setup parameters\n",
    "STConfig['data'] = 'support'\n",
    "\n",
    "seed = STConfig['seed'] # 1234\n",
    "#seed = 42\n",
    "\n",
    "set_random_seed(seed)\n",
    "\n",
    "hparams = {\n",
    "    'batch_size': 128,\n",
    "    'weight_decay': 0,\n",
    "    'learning_rate': 1e-3,\n",
    "    'epochs': 20,\n",
    "}"
   ]
  },
  {
   "cell_type": "code",
   "execution_count": 2,
   "id": "358ec95d",
   "metadata": {},
   "outputs": [
    {
     "name": "stdout",
     "output_type": "stream",
     "text": [
      "GPU not found! will use cpu for training!\n"
     ]
    },
    {
     "name": "stderr",
     "output_type": "stream",
     "text": [
      "/home/cozy/Projects/deep-dialysis.pytorch/SurvTRACE/survtrace/train_utils.py:208: UserWarning: This overload of add_ is deprecated:\n",
      "\tadd_(Number alpha, Tensor other)\n",
      "Consider using one of the following signatures instead:\n",
      "\tadd_(Tensor other, *, Number alpha) (Triggered internally at ../torch/csrc/utils/python_arg_parser.cpp:1420.)\n",
      "  next_m.mul_(beta1).add_(1 - beta1, grad)\n"
     ]
    },
    {
     "name": "stdout",
     "output_type": "stream",
     "text": [
      "[Train-0]: 68.97469484806061\n",
      "[Val-0]: 1.4354215860366821\n",
      "[Train-1]: 58.16100716590881\n",
      "[Val-1]: 1.3855706453323364\n",
      "[Train-2]: 57.81848680973053\n",
      "[Val-2]: 1.3587766885757446\n",
      "[Train-3]: 57.50685143470764\n",
      "[Val-3]: 1.370699167251587\n",
      "EarlyStopping counter: 1 out of 5\n",
      "[Train-4]: 57.37078523635864\n",
      "[Val-4]: 1.3460651636123657\n",
      "[Train-5]: 57.1936194896698\n",
      "[Val-5]: 1.3588536977767944\n",
      "EarlyStopping counter: 1 out of 5\n",
      "[Train-6]: 57.39272677898407\n",
      "[Val-6]: 1.3475040197372437\n",
      "EarlyStopping counter: 2 out of 5\n",
      "[Train-7]: 57.357582807540894\n",
      "[Val-7]: 1.3480324745178223\n",
      "EarlyStopping counter: 3 out of 5\n",
      "[Train-8]: 57.184396743774414\n",
      "[Val-8]: 1.349798321723938\n",
      "EarlyStopping counter: 4 out of 5\n",
      "[Train-9]: 57.11119365692139\n",
      "[Val-9]: 1.3487684726715088\n",
      "EarlyStopping counter: 5 out of 5\n",
      "early stops at epoch 10\n"
     ]
    }
   ],
   "source": [
    "# load data\n",
    "df, df_train, df_y_train, df_test, df_y_test, df_val, df_y_val = load_data(STConfig)\n",
    "\n",
    "# get model\n",
    "model = SurvTraceSingle(STConfig)\n",
    "\n",
    "# initialize a trainer\n",
    "trainer = Trainer(model)\n",
    "train_loss, val_loss = trainer.fit((df_train, df_y_train), (df_val, df_y_val),\n",
    "        batch_size=hparams['batch_size'],\n",
    "        epochs=hparams['epochs'],\n",
    "        learning_rate=hparams['learning_rate'],\n",
    "        weight_decay=hparams['weight_decay'],)"
   ]
  },
  {
   "cell_type": "code",
   "execution_count": 3,
   "id": "b6fbe2c8",
   "metadata": {},
   "outputs": [
    {
     "name": "stdout",
     "output_type": "stream",
     "text": [
      "******************************\n",
      "start evaluation\n",
      "******************************\n"
     ]
    },
    {
     "name": "stderr",
     "output_type": "stream",
     "text": [
      "/home/cozy/Projects/deep-dialysis.pytorch/venv/lib/python3.10/site-packages/pycox/evaluation/eval_surv.py:36: FutureWarning: is_monotonic is deprecated and will be removed in a future version. Use is_monotonic_increasing instead.\n",
      "  assert pd.Series(self.index_surv).is_monotonic\n"
     ]
    },
    {
     "name": "stdout",
     "output_type": "stream",
     "text": [
      "C-td:  0.38295996847681735\n",
      "For 0.25 quantile,\n",
      "TD Concordance Index - IPCW: 0.6320097594782287\n",
      "Brier Score: 0.1366929595449108\n",
      "Dynamic AUC:  0.6373691900643684\n",
      "For 0.5 quantile,\n",
      "TD Concordance Index - IPCW: 0.6019105928714625\n",
      "Brier Score: 0.2161103235164085\n",
      "Dynamic AUC:  0.6153608140445324\n",
      "For 0.75 quantile,\n",
      "TD Concordance Index - IPCW: 0.5956090981836647\n",
      "Brier Score: 0.2342820404074522\n",
      "Dynamic AUC:  0.6498974872508951\n",
      "done\n"
     ]
    }
   ],
   "source": [
    "# evaluate model\n",
    "evaluator = Evaluator(df, df_train.index)\n",
    "evaluator.eval(model, (df_test, df_y_test))\n",
    "print(\"done\")"
   ]
  },
  {
   "cell_type": "markdown",
   "id": "818cf17a",
   "metadata": {},
   "source": [
    "## Results"
   ]
  },
  {
   "cell_type": "markdown",
   "id": "52f7fe23",
   "metadata": {},
   "source": [
    "- seed = 1234\n",
    "\n",
    "\n",
    "    - For 0.25 quantile,\n",
    "    TD Concordance Index - IPCW: 0.6518277634325532\n",
    "    Brier Score: 0.13597668200662355\n",
    "    Dynamic AUC:  0.6543154435066361\n",
    "    - For 0.5 quantile,\n",
    "    TD Concordance Index - IPCW: 0.6213892332309874\n",
    "    Brier Score: 0.2121185611343609\n",
    "    Dynamic AUC:  0.6390969190626725\n",
    "    - For 0.75 quantile,\n",
    "    TD Concordance Index - IPCW: 0.6097067982099736\n",
    "    Brier Score: 0.22984578874102152\n",
    "    Dynamic AUC:  0.6646348489778212\n",
    "\n",
    "\n",
    "- seed = 42\n",
    "\n",
    "\n",
    "    - For 0.25 quantile,\n",
    "    TD Concordance Index - IPCW: 0.6320097594782287\n",
    "    Brier Score: 0.1366929595449108\n",
    "    Dynamic AUC:  0.6373691900643684\n",
    "    - For 0.5 quantile,\n",
    "    TD Concordance Index - IPCW: 0.6019105928714625\n",
    "    Brier Score: 0.2161103235164085\n",
    "    Dynamic AUC:  0.6153608140445324\n",
    "    - For 0.75 quantile,\n",
    "    TD Concordance Index - IPCW: 0.5956090981836647\n",
    "    Brier Score: 0.2342820404074522\n",
    "    Dynamic AUC:  0.6498974872508951"
   ]
  },
  {
   "cell_type": "code",
   "execution_count": 4,
   "id": "fcc7596d",
   "metadata": {},
   "outputs": [
    {
     "data": {
      "image/png": "[encoded data removed]",
      "text/plain": [
       "<Figure size 640x480 with 1 Axes>"
      ]
     },
     "metadata": {},
     "output_type": "display_data"
    }
   ],
   "source": [
    "plt.plot(train_loss, label='train')\n",
    "plt.plot(val_loss, label='val')\n",
    "plt.legend(fontsize=20)\n",
    "plt.xlabel('epoch',fontsize=20)\n",
    "plt.ylabel('loss', fontsize=20)\n",
    "plt.show()"
   ]
  },
  {
   "cell_type": "code",
   "execution_count": null,
   "id": "b5b74f27",
   "metadata": {},
   "outputs": [],
   "source": []
  }
 ],
 "metadata": {
  "kernelspec": {
   "display_name": "Python 3 (ipykernel)",
   "language": "python",
   "name": "python3"
  },
  "language_info": {
   "codemirror_mode": {
    "name": "ipython",
    "version": 3
   },
   "file_extension": ".py",
   "mimetype": "text/x-python",
   "name": "python",
   "nbconvert_exporter": "python",
   "pygments_lexer": "ipython3",
   "version": "3.10.9"
  }
 },
 "nbformat": 4,
 "nbformat_minor": 5
}
