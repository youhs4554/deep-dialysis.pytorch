{
 "cells": [
  {
   "cell_type": "markdown",
   "metadata": {},
   "source": [
    "# DeepHit for Single Event\n",
    "\n",
    "In this notebook we show an example of how we can fit a [DeepHit](http://medianetlab.ee.ucla.edu/papers/AAAI_2018_DeepHit) model when we only have *one* event type.\n",
    "\n",
    "If you are interested in **competing risks**, see [this notebook](https://nbviewer.jupyter.org/github/havakv/pycox/blob/master/examples/deephit_competing_risks.ipynb) instead.\n",
    "\n",
    "For a more verbose introduction to `pycox` see [this notebook](https://nbviewer.jupyter.org/github/havakv/pycox/blob/master/examples/01_introduction.ipynb)."
   ]
  },
  {
   "cell_type": "code",
   "execution_count": 1,
   "metadata": {},
   "outputs": [],
   "source": [
    "import os\n",
    "os.environ[\"CUDA_VISIBLE_DEVICES\"] = \"4\""
   ]
  },
  {
   "cell_type": "code",
   "execution_count": 2,
   "metadata": {},
   "outputs": [],
   "source": [
    "import numpy as np\n",
    "import matplotlib.pyplot as plt\n",
    "\n",
    "# For preprocessing\n",
    "from sklearn.preprocessing import StandardScaler\n",
    "from sklearn_pandas import DataFrameMapper \n",
    "\n",
    "import torch # For building the networks \n",
    "import torchtuples as tt # Some useful functions\n",
    "\n",
    "from pycox.datasets import metabric, support\n",
    "from pycox.models import DeepHitSingle, LogisticHazard, PMF, BCESurv\n",
    "from pycox.preprocessing.feature_transforms import OrderedCategoricalLong\n",
    "\n",
    "from pycox.evaluation import EvalSurv"
   ]
  },
  {
   "cell_type": "code",
   "execution_count": 3,
   "metadata": {},
   "outputs": [],
   "source": [
    "# for deterministic results\n",
    "seed = 1234\n",
    "\n",
    "np.random.seed(seed)\n",
    "_ = torch.manual_seed(seed)\n",
    "torch.cuda.manual_seed(seed)\n",
    "torch.cuda.manual_seed_all(seed) # if you are using multi-GPU"
   ]
  },
  {
   "cell_type": "markdown",
   "metadata": {},
   "source": [
    "## Dataset\n",
    "\n",
    "We load the METABRIC data set as a pandas DataFrame and split the data in in train, test and validation.\n",
    "\n",
    "The `duration` column gives the observed times and the `event` column contains indicators of whether the observation is an event (1) or a censored observation (0)."
   ]
  },
  {
   "cell_type": "code",
   "execution_count": 4,
   "metadata": {},
   "outputs": [],
   "source": [
    "df_full = support.read_df()\n",
    "max_duration_idx = df_full[\"duration\"].argmax()\n",
    "df_test = df_full.drop(max_duration_idx).sample(frac=0.3)\n",
    "df_train = df_full.drop(df_test.index)\n",
    "df_val = df_train.drop(max_duration_idx).sample(frac=0.1)\n",
    "df_train = df_train.drop(df_val.index)"
   ]
  },
  {
   "cell_type": "code",
   "execution_count": 5,
   "metadata": {},
   "outputs": [
    {
     "data": {
      "text/html": [
       "<div>\n",
       "<style scoped>\n",
       "    .dataframe tbody tr th:only-of-type {\n",
       "        vertical-align: middle;\n",
       "    }\n",
       "\n",
       "    .dataframe tbody tr th {\n",
       "        vertical-align: top;\n",
       "    }\n",
       "\n",
       "    .dataframe thead th {\n",
       "        text-align: right;\n",
       "    }\n",
       "</style>\n",
       "<table border=\"1\" class=\"dataframe\">\n",
       "  <thead>\n",
       "    <tr style=\"text-align: right;\">\n",
       "      <th></th>\n",
       "      <th>x0</th>\n",
       "      <th>x1</th>\n",
       "      <th>x2</th>\n",
       "      <th>x3</th>\n",
       "      <th>x4</th>\n",
       "      <th>x5</th>\n",
       "      <th>x6</th>\n",
       "      <th>x7</th>\n",
       "      <th>x8</th>\n",
       "      <th>x9</th>\n",
       "      <th>x10</th>\n",
       "      <th>x11</th>\n",
       "      <th>x12</th>\n",
       "      <th>x13</th>\n",
       "      <th>duration</th>\n",
       "      <th>event</th>\n",
       "    </tr>\n",
       "  </thead>\n",
       "  <tbody>\n",
       "    <tr>\n",
       "      <th>0</th>\n",
       "      <td>82.709961</td>\n",
       "      <td>1.0</td>\n",
       "      <td>2.0</td>\n",
       "      <td>1.0</td>\n",
       "      <td>0.0</td>\n",
       "      <td>0.0</td>\n",
       "      <td>0.0</td>\n",
       "      <td>160.0</td>\n",
       "      <td>55.0</td>\n",
       "      <td>16.0</td>\n",
       "      <td>38.195309</td>\n",
       "      <td>142.0</td>\n",
       "      <td>19.000000</td>\n",
       "      <td>1.099854</td>\n",
       "      <td>30.0</td>\n",
       "      <td>1</td>\n",
       "    </tr>\n",
       "    <tr>\n",
       "      <th>3</th>\n",
       "      <td>53.075989</td>\n",
       "      <td>1.0</td>\n",
       "      <td>4.0</td>\n",
       "      <td>3.0</td>\n",
       "      <td>0.0</td>\n",
       "      <td>0.0</td>\n",
       "      <td>0.0</td>\n",
       "      <td>55.0</td>\n",
       "      <td>100.0</td>\n",
       "      <td>18.0</td>\n",
       "      <td>36.000000</td>\n",
       "      <td>135.0</td>\n",
       "      <td>8.699219</td>\n",
       "      <td>0.799927</td>\n",
       "      <td>892.0</td>\n",
       "      <td>0</td>\n",
       "    </tr>\n",
       "    <tr>\n",
       "      <th>4</th>\n",
       "      <td>71.794983</td>\n",
       "      <td>0.0</td>\n",
       "      <td>1.0</td>\n",
       "      <td>1.0</td>\n",
       "      <td>0.0</td>\n",
       "      <td>0.0</td>\n",
       "      <td>0.0</td>\n",
       "      <td>65.0</td>\n",
       "      <td>135.0</td>\n",
       "      <td>40.0</td>\n",
       "      <td>38.593750</td>\n",
       "      <td>146.0</td>\n",
       "      <td>0.099991</td>\n",
       "      <td>0.399963</td>\n",
       "      <td>7.0</td>\n",
       "      <td>1</td>\n",
       "    </tr>\n",
       "    <tr>\n",
       "      <th>7</th>\n",
       "      <td>71.457947</td>\n",
       "      <td>1.0</td>\n",
       "      <td>4.0</td>\n",
       "      <td>1.0</td>\n",
       "      <td>0.0</td>\n",
       "      <td>0.0</td>\n",
       "      <td>2.0</td>\n",
       "      <td>68.0</td>\n",
       "      <td>102.0</td>\n",
       "      <td>24.0</td>\n",
       "      <td>35.500000</td>\n",
       "      <td>134.0</td>\n",
       "      <td>9.199219</td>\n",
       "      <td>1.399902</td>\n",
       "      <td>1530.0</td>\n",
       "      <td>0</td>\n",
       "    </tr>\n",
       "    <tr>\n",
       "      <th>12</th>\n",
       "      <td>75.876953</td>\n",
       "      <td>0.0</td>\n",
       "      <td>1.0</td>\n",
       "      <td>1.0</td>\n",
       "      <td>0.0</td>\n",
       "      <td>0.0</td>\n",
       "      <td>1.0</td>\n",
       "      <td>35.0</td>\n",
       "      <td>185.0</td>\n",
       "      <td>10.0</td>\n",
       "      <td>37.695309</td>\n",
       "      <td>133.0</td>\n",
       "      <td>17.296875</td>\n",
       "      <td>3.899902</td>\n",
       "      <td>406.0</td>\n",
       "      <td>1</td>\n",
       "    </tr>\n",
       "  </tbody>\n",
       "</table>\n",
       "</div>"
      ],
      "text/plain": [
       "           x0   x1   x2   x3   x4   x5   x6     x7     x8    x9        x10  \\\n",
       "0   82.709961  1.0  2.0  1.0  0.0  0.0  0.0  160.0   55.0  16.0  38.195309   \n",
       "3   53.075989  1.0  4.0  3.0  0.0  0.0  0.0   55.0  100.0  18.0  36.000000   \n",
       "4   71.794983  0.0  1.0  1.0  0.0  0.0  0.0   65.0  135.0  40.0  38.593750   \n",
       "7   71.457947  1.0  4.0  1.0  0.0  0.0  2.0   68.0  102.0  24.0  35.500000   \n",
       "12  75.876953  0.0  1.0  1.0  0.0  0.0  1.0   35.0  185.0  10.0  37.695309   \n",
       "\n",
       "      x11        x12       x13  duration  event  \n",
       "0   142.0  19.000000  1.099854      30.0      1  \n",
       "3   135.0   8.699219  0.799927     892.0      0  \n",
       "4   146.0   0.099991  0.399963       7.0      1  \n",
       "7   134.0   9.199219  1.399902    1530.0      0  \n",
       "12  133.0  17.296875  3.899902     406.0      1  "
      ]
     },
     "execution_count": 5,
     "metadata": {},
     "output_type": "execute_result"
    }
   ],
   "source": [
    "df_train.head()"
   ]
  },
  {
   "cell_type": "code",
   "execution_count": 6,
   "metadata": {},
   "outputs": [
    {
     "data": {
      "text/plain": [
       "[14.0, 57.0, 250.25]"
      ]
     },
     "execution_count": 6,
     "metadata": {},
     "output_type": "execute_result"
    }
   ],
   "source": [
    "horizons = [0.25, 0.5, 0.75] # truncated time horizons 25%, 50%, 75%\n",
    "times = np.quantile(df_full.duration[df_full.event==1], horizons).tolist()\n",
    "times"
   ]
  },
  {
   "cell_type": "markdown",
   "metadata": {},
   "source": [
    "## Feature transforms\n",
    "\n",
    "The METABRIC dataset has  9 covariates: `x0, ..., x8`.\n",
    "We will standardize the 5 numerical covariates, and leave the binary covariates as is.\n",
    "Note that PyTorch require variables of type `'float32'`.\n",
    "\n",
    "We like using the `sklearn_pandas.DataFrameMapper` to make feature mappers."
   ]
  },
  {
   "cell_type": "code",
   "execution_count": 7,
   "metadata": {},
   "outputs": [],
   "source": [
    "cols_standardize =  ['x0', 'x7', 'x8', 'x9', 'x10', 'x11', 'x12', 'x13']\n",
    "cols_leave = ['x1', 'x2', 'x3', 'x4', 'x5', 'x6']\n",
    "\n",
    "standardize = [([col], StandardScaler()) for col in cols_standardize]\n",
    "leave = [(col, None) for col in cols_leave]\n",
    "\n",
    "x_mapper = DataFrameMapper(standardize + leave)"
   ]
  },
  {
   "cell_type": "code",
   "execution_count": 8,
   "metadata": {},
   "outputs": [],
   "source": [
    "x_train = x_mapper.fit_transform(df_train).astype('float32')\n",
    "x_val = x_mapper.transform(df_val).astype('float32')\n",
    "x_test = x_mapper.transform(df_test).astype('float32')"
   ]
  },
  {
   "cell_type": "markdown",
   "metadata": {},
   "source": [
    "## Label transforms\n",
    "\n",
    "The survival methods require individual label transforms, so we have included a proposed `label_transform` for each method.\n",
    "In this case `label_transform` is just a shorthand for the class `pycox.preprocessing.label_transforms.LabTransDiscreteTime`.\n",
    "\n",
    "DeepHit is a discrete-time method, meaning it requires discretization of the event times to be applied to continuous-time data.\n",
    "We let `num_durations` define the size of this (equidistant) discretization grid, meaning our network will have `num_durations` output nodes."
   ]
  },
  {
   "cell_type": "code",
   "execution_count": 9,
   "metadata": {},
   "outputs": [
    {
     "name": "stderr",
     "output_type": "stream",
     "text": [
      "C:\\Users\\youhs\\AppData\\Roaming\\Python\\Python39\\site-packages\\pycox\\preprocessing\\label_transforms.py:113: UserWarning: Calling fit method, when 'cuts' are already defined. Leaving cuts unchanged.\n",
      "  warnings.warn(\"Calling fit method, when 'cuts' are already defined. Leaving cuts unchanged.\")\n"
     ]
    }
   ],
   "source": [
    "# num_durations = 20\n",
    "# scheme = 'quantiles'\n",
    "# labtrans = DeepHitSingle.label_transform(num_durations, scheme=scheme)\n",
    "labtrans = DeepHitSingle.label_transform(cuts=np.array([0]+times+[df_full[\"duration\"].max()]))\n",
    "\n",
    "get_target = lambda df: (df['duration'].values, df['event'].values)\n",
    "y_train = labtrans.fit_transform(*get_target(df_train))\n",
    "y_val = labtrans.transform(*get_target(df_val))\n",
    "\n",
    "train = (x_train, y_train)\n",
    "val = (x_val, y_val)\n",
    "\n",
    "# We don't need to transform the test labels\n",
    "durations_test, events_test = get_target(df_test)"
   ]
  },
  {
   "cell_type": "code",
   "execution_count": 10,
   "metadata": {},
   "outputs": [
    {
     "data": {
      "text/html": [
       "<div>\n",
       "<style scoped>\n",
       "    .dataframe tbody tr th:only-of-type {\n",
       "        vertical-align: middle;\n",
       "    }\n",
       "\n",
       "    .dataframe tbody tr th {\n",
       "        vertical-align: top;\n",
       "    }\n",
       "\n",
       "    .dataframe thead th {\n",
       "        text-align: right;\n",
       "    }\n",
       "</style>\n",
       "<table border=\"1\" class=\"dataframe\">\n",
       "  <thead>\n",
       "    <tr style=\"text-align: right;\">\n",
       "      <th></th>\n",
       "      <th>x0</th>\n",
       "      <th>x1</th>\n",
       "      <th>x2</th>\n",
       "      <th>x3</th>\n",
       "      <th>x4</th>\n",
       "      <th>x5</th>\n",
       "      <th>x6</th>\n",
       "      <th>x7</th>\n",
       "      <th>x8</th>\n",
       "      <th>x9</th>\n",
       "      <th>x10</th>\n",
       "      <th>x11</th>\n",
       "      <th>x12</th>\n",
       "      <th>x13</th>\n",
       "      <th>duration</th>\n",
       "      <th>event</th>\n",
       "    </tr>\n",
       "  </thead>\n",
       "  <tbody>\n",
       "    <tr>\n",
       "      <th>0</th>\n",
       "      <td>82.709961</td>\n",
       "      <td>1.0</td>\n",
       "      <td>2.0</td>\n",
       "      <td>1.0</td>\n",
       "      <td>0.0</td>\n",
       "      <td>0.0</td>\n",
       "      <td>0.0</td>\n",
       "      <td>160.0</td>\n",
       "      <td>55.0</td>\n",
       "      <td>16.0</td>\n",
       "      <td>38.195309</td>\n",
       "      <td>142.0</td>\n",
       "      <td>19.000000</td>\n",
       "      <td>1.099854</td>\n",
       "      <td>30.0</td>\n",
       "      <td>1</td>\n",
       "    </tr>\n",
       "    <tr>\n",
       "      <th>3</th>\n",
       "      <td>53.075989</td>\n",
       "      <td>1.0</td>\n",
       "      <td>4.0</td>\n",
       "      <td>3.0</td>\n",
       "      <td>0.0</td>\n",
       "      <td>0.0</td>\n",
       "      <td>0.0</td>\n",
       "      <td>55.0</td>\n",
       "      <td>100.0</td>\n",
       "      <td>18.0</td>\n",
       "      <td>36.000000</td>\n",
       "      <td>135.0</td>\n",
       "      <td>8.699219</td>\n",
       "      <td>0.799927</td>\n",
       "      <td>892.0</td>\n",
       "      <td>0</td>\n",
       "    </tr>\n",
       "    <tr>\n",
       "      <th>4</th>\n",
       "      <td>71.794983</td>\n",
       "      <td>0.0</td>\n",
       "      <td>1.0</td>\n",
       "      <td>1.0</td>\n",
       "      <td>0.0</td>\n",
       "      <td>0.0</td>\n",
       "      <td>0.0</td>\n",
       "      <td>65.0</td>\n",
       "      <td>135.0</td>\n",
       "      <td>40.0</td>\n",
       "      <td>38.593750</td>\n",
       "      <td>146.0</td>\n",
       "      <td>0.099991</td>\n",
       "      <td>0.399963</td>\n",
       "      <td>7.0</td>\n",
       "      <td>1</td>\n",
       "    </tr>\n",
       "  </tbody>\n",
       "</table>\n",
       "</div>"
      ],
      "text/plain": [
       "          x0   x1   x2   x3   x4   x5   x6     x7     x8    x9        x10  \\\n",
       "0  82.709961  1.0  2.0  1.0  0.0  0.0  0.0  160.0   55.0  16.0  38.195309   \n",
       "3  53.075989  1.0  4.0  3.0  0.0  0.0  0.0   55.0  100.0  18.0  36.000000   \n",
       "4  71.794983  0.0  1.0  1.0  0.0  0.0  0.0   65.0  135.0  40.0  38.593750   \n",
       "\n",
       "     x11        x12       x13  duration  event  \n",
       "0  142.0  19.000000  1.099854      30.0      1  \n",
       "3  135.0   8.699219  0.799927     892.0      0  \n",
       "4  146.0   0.099991  0.399963       7.0      1  "
      ]
     },
     "execution_count": 10,
     "metadata": {},
     "output_type": "execute_result"
    }
   ],
   "source": [
    "df_train.head(3)"
   ]
  },
  {
   "cell_type": "code",
   "execution_count": 11,
   "metadata": {},
   "outputs": [
    {
     "data": {
      "text/plain": [
       "(array([2, 3, 1, ..., 2, 1, 3], dtype=int64),\n",
       " array([1., 0., 1., ..., 1., 1., 0.], dtype=float32))"
      ]
     },
     "execution_count": 11,
     "metadata": {},
     "output_type": "execute_result"
    }
   ],
   "source": [
    "y_train"
   ]
  },
  {
   "cell_type": "code",
   "execution_count": 12,
   "metadata": {},
   "outputs": [
    {
     "data": {
      "text/plain": [
       "pycox.preprocessing.label_transforms.LabTransDiscreteTime"
      ]
     },
     "execution_count": 12,
     "metadata": {},
     "output_type": "execute_result"
    }
   ],
   "source": [
    "type(labtrans)"
   ]
  },
  {
   "cell_type": "code",
   "execution_count": 13,
   "metadata": {},
   "outputs": [
    {
     "data": {
      "text/plain": [
       "array([   0.  ,   14.  ,   57.  ,  250.25, 2029.  ])"
      ]
     },
     "execution_count": 13,
     "metadata": {},
     "output_type": "execute_result"
    }
   ],
   "source": [
    "labtrans.cuts"
   ]
  },
  {
   "cell_type": "markdown",
   "metadata": {},
   "source": [
    "## Neural net\n",
    "\n",
    "We make a neural net with `torch`.\n",
    "For simple network structures, we can use the `MLPVanilla` provided by `torchtuples`.\n",
    "For building more advanced network architectures, see for example [the tutorials by PyTroch](https://pytorch.org/tutorials/).\n",
    "\n",
    "The following net is an MLP with two hidden layers (with 32 nodes each), ReLU activations, and `num_nodes` output nodes.\n",
    "We also have batch normalization and dropout between the layers."
   ]
  },
  {
   "cell_type": "code",
   "execution_count": 14,
   "metadata": {},
   "outputs": [],
   "source": [
    "# in_features = x_train.shape[1]\n",
    "# num_nodes = [32, 32]\n",
    "# out_features = labtrans.out_features\n",
    "# batch_norm = True\n",
    "# dropout = 0.1\n",
    "\n",
    "# net = tt.practical.MLPVanilla(in_features, num_nodes, out_features, batch_norm, dropout)"
   ]
  },
  {
   "cell_type": "markdown",
   "metadata": {},
   "source": [
    "If you instead want to build this network with `torch` you can uncomment the following code.\n",
    "It is essentially equivalent to the `MLPVanilla`, but without the `torch.nn.init.kaiming_normal_` weight initialization."
   ]
  },
  {
   "cell_type": "code",
   "execution_count": 15,
   "metadata": {},
   "outputs": [],
   "source": [
    "import math\n",
    "import os\n",
    "from tempfile import TemporaryDirectory\n",
    "from typing import Tuple\n",
    "\n",
    "import torch\n",
    "from torch import nn, Tensor\n",
    "import torch.nn.functional as F\n",
    "from torch.nn import TransformerEncoder, TransformerEncoderLayer\n",
    "from torch.utils.data import dataset\n",
    "\n",
    "class TransformerModel(nn.Module):\n",
    "\n",
    "    def __init__(self, in_features: int, seq_len:int,  d_model: int, nhead: int, d_hid: int,\n",
    "                 nlayers: int, dropout: float = 0.5):\n",
    "        super().__init__()\n",
    "        self.model_type = 'Transformer'\n",
    "        self.pos_encoder = PositionalEncoding(d_model, dropout)\n",
    "        encoder_layers = TransformerEncoderLayer(d_model, nhead, d_hid, dropout)\n",
    "        self.transformer_encoder = TransformerEncoder(encoder_layers, nlayers)\n",
    "        self.encoder = nn.Linear(in_features, d_model)\n",
    "        self.d_model = d_model\n",
    "        self.decoder = nn.Linear(d_model, 1)\n",
    "        self.seq_len = seq_len\n",
    "\n",
    "        self.init_weights()\n",
    "\n",
    "    def init_weights(self) -> None:\n",
    "        initrange = 0.1\n",
    "        self.encoder.weight.data.uniform_(-initrange, initrange)\n",
    "        self.decoder.bias.data.zero_()\n",
    "        self.decoder.weight.data.uniform_(-initrange, initrange)\n",
    "    \n",
    "    def _forward(self, x: Tensor) -> Tensor:\n",
    "        x = torch.unsqueeze(x, 0).repeat(self.seq_len, 1, 1) # [seq_len, batch_size, in_features]\n",
    "        seq_mask = generate_square_subsequent_mask(self.seq_len).to(x.device)\n",
    "        x = self.encoder(x) * math.sqrt(self.d_model)\n",
    "        x = self.pos_encoder(x)\n",
    "        encoded = self.transformer_encoder(x, seq_mask) # [seq_len, batch_size, d_model]\n",
    "        decoded = self.decoder(encoded) # [seq_len, batch_size, 1]\n",
    "        phi = decoded.squeeze(2).t()\n",
    "        \n",
    "        return phi, decoded\n",
    "    \n",
    "    def forward(self, x: Tensor) -> Tensor:\n",
    "        phi, decoded = self._forward(x)\n",
    "        return phi\n",
    "\n",
    "def generate_square_subsequent_mask(sz: int) -> Tensor:\n",
    "    \"\"\"Generates an upper-triangular matrix of -inf, with zeros on diag.\"\"\"\n",
    "    return torch.triu(torch.ones(sz, sz) * float('-inf'), diagonal=1)"
   ]
  },
  {
   "cell_type": "code",
   "execution_count": 16,
   "metadata": {},
   "outputs": [],
   "source": [
    "class PositionalEncoding(nn.Module):\n",
    "\n",
    "    def __init__(self, d_model: int, dropout: float = 0.1, max_len: int = 5000):\n",
    "        super().__init__()\n",
    "        self.dropout = nn.Dropout(p=dropout)\n",
    "\n",
    "        position = torch.arange(max_len).unsqueeze(1)\n",
    "        div_term = torch.exp(torch.arange(0, d_model, 2) * (-math.log(10000.0) / d_model))\n",
    "        pe = torch.zeros(max_len, 1, d_model)\n",
    "        pe[:, 0, 0::2] = torch.sin(position * div_term)\n",
    "        pe[:, 0, 1::2] = torch.cos(position * div_term)\n",
    "        self.register_buffer('pe', pe)\n",
    "\n",
    "    def forward(self, x: Tensor) -> Tensor:\n",
    "        \"\"\"\n",
    "        Args:\n",
    "            x: Tensor, shape [seq_len, batch_size, embedding_dim]\n",
    "        \"\"\"\n",
    "        x = x + self.pe[:x.size(0)]\n",
    "        return self.dropout(x)"
   ]
  },
  {
   "cell_type": "code",
   "execution_count": 17,
   "metadata": {},
   "outputs": [],
   "source": [
    "in_features = x_train.shape[1]\n",
    "seq_len = len(labtrans.cuts)\n",
    "emsize = 200  # embedding dimension\n",
    "d_hid = 200  # dimension of the feedforward network model in nn.TransformerEncoder\n",
    "nlayers = 2  # number of nn.TransformerEncoderLayer in nn.TransformerEncoder\n",
    "nhead = 2  # number of heads in nn.MultiheadAttention\n",
    "dropout = 0.2  # dropout probability\n",
    "device = torch.device('cuda' if torch.cuda.is_available() else 'cpu')\n",
    "\n",
    "net = TransformerModel(in_features, seq_len, emsize, nhead, d_hid, nlayers, dropout).to(device)"
   ]
  },
  {
   "cell_type": "markdown",
   "metadata": {},
   "source": [
    "## Training the model\n",
    "\n",
    "To train the model we need to define an optimizer. You can choose any `torch.optim` optimizer, but here we instead use one from `tt.optim` as it has some added functionality.\n",
    "We use the `Adam` optimizer, but instead of choosing a learning rate, we will use the scheme proposed by [Smith 2017](https://arxiv.org/pdf/1506.01186.pdf) to find a suitable learning rate with `model.lr_finder`. See [this post](https://towardsdatascience.com/finding-good-learning-rate-and-the-one-cycle-policy-7159fe1db5d6) for an explanation.\n",
    "\n",
    "We also set `duration_index` which connects the output nodes of the network the the discretization times. This is only useful for prediction and does not affect the training procedure."
   ]
  },
  {
   "cell_type": "markdown",
   "metadata": {},
   "source": [
    "DeepHit has a loss that is a combination of a negative log-likelihood and a ranking loss. `alpha` is a parameter that controls the linear combination between the two, and `sigma` is a parameter used by the ranking loss. `alpha = 1` give a loss only containing the negative log-likelihood and `alpha = 0` give a pure ranking loss. Note that this is different than the original paper."
   ]
  },
  {
   "cell_type": "code",
   "execution_count": 18,
   "metadata": {},
   "outputs": [],
   "source": [
    "#model = DeepHitSingle(net, tt.optim.Adam, alpha=0.2, sigma=0.1, duration_index=labtrans.cuts)\n",
    "#model = LogisticHazard(net, tt.optim.Adam, duration_index=labtrans.cuts)\n",
    "model = PMF(net, tt.optim.Adam, duration_index=labtrans.cuts)\n",
    "#model = BCESurv(net, tt.optim.Adam, duration_index=labtrans.cuts)"
   ]
  },
  {
   "cell_type": "code",
   "execution_count": 19,
   "metadata": {},
   "outputs": [
    {
     "data": {
      "image/png": "[encoded data removed]",
      "text/plain": [
       "<Figure size 640x480 with 1 Axes>"
      ]
     },
     "metadata": {},
     "output_type": "display_data"
    }
   ],
   "source": [
    "batch_size = 256\n",
    "lr_finder = model.lr_finder(x_train, y_train, batch_size, tolerance=3)\n",
    "_ = lr_finder.plot()"
   ]
  },
  {
   "cell_type": "code",
   "execution_count": 20,
   "metadata": {},
   "outputs": [
    {
     "data": {
      "text/plain": [
       "0.002595024211399749"
      ]
     },
     "execution_count": 20,
     "metadata": {},
     "output_type": "execute_result"
    }
   ],
   "source": [
    "lr_finder.get_best_lr()"
   ]
  },
  {
   "cell_type": "markdown",
   "metadata": {},
   "source": [
    "Often, this learning rate is a little high, so we instead set it manually to 0.01"
   ]
  },
  {
   "cell_type": "code",
   "execution_count": 21,
   "metadata": {},
   "outputs": [],
   "source": [
    "model.optimizer.set_lr(0.0005)"
   ]
  },
  {
   "cell_type": "markdown",
   "metadata": {},
   "source": [
    "We include the `EarlyStopping` callback to stop training when the validation loss stops improving. After training, this callback will also load the best performing model in terms of validation loss."
   ]
  },
  {
   "cell_type": "code",
   "execution_count": 22,
   "metadata": {
    "scrolled": true
   },
   "outputs": [
    {
     "name": "stdout",
     "output_type": "stream",
     "text": [
      "0:\t[0s / 0s],\t\ttrain_loss: 1.5249,\tval_loss: 1.4258\n",
      "1:\t[0s / 1s],\t\ttrain_loss: 1.4567,\tval_loss: 1.4022\n",
      "2:\t[0s / 2s],\t\ttrain_loss: 1.4319,\tval_loss: 1.3902\n",
      "3:\t[0s / 2s],\t\ttrain_loss: 1.4257,\tval_loss: 1.3843\n",
      "4:\t[0s / 3s],\t\ttrain_loss: 1.4181,\tval_loss: 1.3812\n",
      "5:\t[0s / 4s],\t\ttrain_loss: 1.4050,\tval_loss: 1.3784\n",
      "6:\t[0s / 5s],\t\ttrain_loss: 1.4041,\tval_loss: 1.3807\n",
      "7:\t[0s / 5s],\t\ttrain_loss: 1.3972,\tval_loss: 1.3747\n",
      "8:\t[0s / 6s],\t\ttrain_loss: 1.3954,\tval_loss: 1.3731\n",
      "9:\t[0s / 7s],\t\ttrain_loss: 1.3876,\tval_loss: 1.3761\n",
      "10:\t[0s / 7s],\t\ttrain_loss: 1.3779,\tval_loss: 1.3735\n",
      "11:\t[0s / 8s],\t\ttrain_loss: 1.3764,\tval_loss: 1.3775\n",
      "12:\t[0s / 9s],\t\ttrain_loss: 1.3828,\tval_loss: 1.3771\n",
      "13:\t[0s / 10s],\t\ttrain_loss: 1.3720,\tval_loss: 1.3708\n",
      "14:\t[0s / 10s],\t\ttrain_loss: 1.3625,\tval_loss: 1.3690\n",
      "15:\t[0s / 11s],\t\ttrain_loss: 1.3638,\tval_loss: 1.3636\n",
      "16:\t[0s / 12s],\t\ttrain_loss: 1.3588,\tval_loss: 1.3690\n",
      "17:\t[0s / 12s],\t\ttrain_loss: 1.3579,\tval_loss: 1.3674\n",
      "18:\t[0s / 13s],\t\ttrain_loss: 1.3595,\tval_loss: 1.3609\n",
      "19:\t[0s / 14s],\t\ttrain_loss: 1.3529,\tval_loss: 1.3657\n",
      "20:\t[0s / 15s],\t\ttrain_loss: 1.3579,\tval_loss: 1.3672\n",
      "21:\t[0s / 15s],\t\ttrain_loss: 1.3483,\tval_loss: 1.3568\n",
      "22:\t[0s / 16s],\t\ttrain_loss: 1.3544,\tval_loss: 1.3608\n",
      "23:\t[0s / 17s],\t\ttrain_loss: 1.3466,\tval_loss: 1.3513\n",
      "24:\t[0s / 17s],\t\ttrain_loss: 1.3442,\tval_loss: 1.3572\n",
      "25:\t[0s / 18s],\t\ttrain_loss: 1.3448,\tval_loss: 1.3627\n",
      "26:\t[0s / 19s],\t\ttrain_loss: 1.3405,\tval_loss: 1.3612\n",
      "27:\t[0s / 20s],\t\ttrain_loss: 1.3347,\tval_loss: 1.3529\n",
      "28:\t[0s / 20s],\t\ttrain_loss: 1.3425,\tval_loss: 1.3544\n",
      "29:\t[0s / 21s],\t\ttrain_loss: 1.3379,\tval_loss: 1.3542\n",
      "30:\t[0s / 22s],\t\ttrain_loss: 1.3307,\tval_loss: 1.3441\n",
      "31:\t[0s / 22s],\t\ttrain_loss: 1.3366,\tval_loss: 1.3429\n",
      "32:\t[0s / 23s],\t\ttrain_loss: 1.3348,\tval_loss: 1.3428\n",
      "33:\t[0s / 24s],\t\ttrain_loss: 1.3335,\tval_loss: 1.3346\n",
      "34:\t[0s / 25s],\t\ttrain_loss: 1.3291,\tval_loss: 1.3300\n",
      "35:\t[0s / 25s],\t\ttrain_loss: 1.3234,\tval_loss: 1.3270\n",
      "36:\t[0s / 26s],\t\ttrain_loss: 1.3284,\tval_loss: 1.3266\n",
      "37:\t[0s / 27s],\t\ttrain_loss: 1.3181,\tval_loss: 1.3181\n",
      "38:\t[0s / 27s],\t\ttrain_loss: 1.3195,\tval_loss: 1.3149\n",
      "39:\t[0s / 28s],\t\ttrain_loss: 1.3123,\tval_loss: 1.3140\n",
      "40:\t[0s / 29s],\t\ttrain_loss: 1.3114,\tval_loss: 1.3126\n",
      "41:\t[0s / 30s],\t\ttrain_loss: 1.3127,\tval_loss: 1.3087\n",
      "42:\t[0s / 30s],\t\ttrain_loss: 1.3075,\tval_loss: 1.3167\n",
      "43:\t[0s / 31s],\t\ttrain_loss: 1.2995,\tval_loss: 1.2979\n",
      "44:\t[0s / 32s],\t\ttrain_loss: 1.3005,\tval_loss: 1.3116\n",
      "45:\t[0s / 32s],\t\ttrain_loss: 1.2920,\tval_loss: 1.2715\n",
      "46:\t[0s / 33s],\t\ttrain_loss: 1.2902,\tval_loss: 1.2666\n",
      "47:\t[0s / 34s],\t\ttrain_loss: 1.2762,\tval_loss: 1.2915\n",
      "48:\t[0s / 34s],\t\ttrain_loss: 1.2867,\tval_loss: 1.2770\n",
      "49:\t[0s / 35s],\t\ttrain_loss: 1.2795,\tval_loss: 1.2577\n",
      "50:\t[0s / 36s],\t\ttrain_loss: 1.2796,\tval_loss: 1.2524\n",
      "51:\t[0s / 37s],\t\ttrain_loss: 1.2757,\tval_loss: 1.2483\n",
      "52:\t[0s / 37s],\t\ttrain_loss: 1.2677,\tval_loss: 1.2690\n",
      "53:\t[0s / 38s],\t\ttrain_loss: 1.2680,\tval_loss: 1.2733\n",
      "54:\t[0s / 39s],\t\ttrain_loss: 1.2725,\tval_loss: 1.2852\n",
      "55:\t[0s / 39s],\t\ttrain_loss: 1.2710,\tval_loss: 1.2454\n",
      "56:\t[0s / 40s],\t\ttrain_loss: 1.2544,\tval_loss: 1.2356\n",
      "57:\t[0s / 41s],\t\ttrain_loss: 1.2582,\tval_loss: 1.2457\n",
      "58:\t[0s / 42s],\t\ttrain_loss: 1.2584,\tval_loss: 1.2521\n",
      "59:\t[0s / 42s],\t\ttrain_loss: 1.2491,\tval_loss: 1.2297\n",
      "60:\t[0s / 43s],\t\ttrain_loss: 1.2479,\tval_loss: 1.2118\n",
      "61:\t[0s / 44s],\t\ttrain_loss: 1.2462,\tval_loss: 1.2198\n",
      "62:\t[0s / 44s],\t\ttrain_loss: 1.2366,\tval_loss: 1.2112\n",
      "63:\t[0s / 45s],\t\ttrain_loss: 1.2301,\tval_loss: 1.2070\n",
      "64:\t[0s / 46s],\t\ttrain_loss: 1.2361,\tval_loss: 1.2164\n",
      "65:\t[0s / 47s],\t\ttrain_loss: 1.2384,\tval_loss: 1.2251\n",
      "66:\t[0s / 47s],\t\ttrain_loss: 1.2328,\tval_loss: 1.2097\n",
      "67:\t[0s / 48s],\t\ttrain_loss: 1.2270,\tval_loss: 1.1992\n",
      "68:\t[0s / 49s],\t\ttrain_loss: 1.2269,\tval_loss: 1.2320\n",
      "69:\t[0s / 49s],\t\ttrain_loss: 1.2205,\tval_loss: 1.2256\n",
      "70:\t[0s / 50s],\t\ttrain_loss: 1.2299,\tval_loss: 1.2016\n",
      "71:\t[0s / 51s],\t\ttrain_loss: 1.2277,\tval_loss: 1.2090\n",
      "72:\t[0s / 51s],\t\ttrain_loss: 1.2196,\tval_loss: 1.2139\n",
      "73:\t[0s / 52s],\t\ttrain_loss: 1.2146,\tval_loss: 1.1926\n",
      "74:\t[0s / 53s],\t\ttrain_loss: 1.2096,\tval_loss: 1.1992\n",
      "75:\t[0s / 54s],\t\ttrain_loss: 1.2047,\tval_loss: 1.2190\n",
      "76:\t[0s / 54s],\t\ttrain_loss: 1.1987,\tval_loss: 1.2157\n",
      "77:\t[0s / 55s],\t\ttrain_loss: 1.2094,\tval_loss: 1.1979\n",
      "78:\t[0s / 56s],\t\ttrain_loss: 1.2078,\tval_loss: 1.2243\n",
      "79:\t[0s / 56s],\t\ttrain_loss: 1.2005,\tval_loss: 1.2220\n",
      "80:\t[0s / 57s],\t\ttrain_loss: 1.1990,\tval_loss: 1.2078\n",
      "81:\t[0s / 58s],\t\ttrain_loss: 1.1966,\tval_loss: 1.2139\n",
      "82:\t[0s / 58s],\t\ttrain_loss: 1.1951,\tval_loss: 1.2103\n",
      "83:\t[0s / 59s],\t\ttrain_loss: 1.1957,\tval_loss: 1.2239\n"
     ]
    }
   ],
   "source": [
    "epochs = 500\n",
    "callbacks = [tt.callbacks.EarlyStopping()]\n",
    "log = model.fit(x_train, y_train, batch_size, epochs, callbacks, val_data=val)"
   ]
  },
  {
   "cell_type": "code",
   "execution_count": 23,
   "metadata": {},
   "outputs": [
    {
     "data": {
      "image/png": "[encoded data removed]",
      "text/plain": [
       "<Figure size 640x480 with 1 Axes>"
      ]
     },
     "metadata": {},
     "output_type": "display_data"
    }
   ],
   "source": [
    "_ = log.plot()"
   ]
  },
  {
   "cell_type": "markdown",
   "metadata": {},
   "source": [
    "## Prediction\n",
    "\n",
    "For evaluation we first need to obtain survival estimates for the test set.\n",
    "This can be done with `model.predict_surv` which returns an array of survival estimates, or with `model.predict_surv_df` which returns the survival estimates as a dataframe."
   ]
  },
  {
   "cell_type": "code",
   "execution_count": 24,
   "metadata": {},
   "outputs": [],
   "source": [
    "surv = model.predict_surv_df(x_test)"
   ]
  },
  {
   "cell_type": "markdown",
   "metadata": {},
   "source": [
    "We can plot the survival estimates for the first 5 individuals.\n",
    "Note that the time scale is correct because we have set `model.duration_index` to be the grid points.\n",
    "We have, however, only defined the survival estimates at the 10 times in our discretization grid, so, the survival estimates is a step function"
   ]
  },
  {
   "cell_type": "code",
   "execution_count": 25,
   "metadata": {},
   "outputs": [
    {
     "data": {
      "image/png": "[encoded data removed]",
      "text/plain": [
       "<Figure size 640x480 with 1 Axes>"
      ]
     },
     "metadata": {},
     "output_type": "display_data"
    }
   ],
   "source": [
    "surv.iloc[:, :5].plot(drawstyle='steps-post')\n",
    "plt.ylabel('S(t | x)')\n",
    "_ = plt.xlabel('Time')"
   ]
  },
  {
   "cell_type": "markdown",
   "metadata": {},
   "source": [
    "It is, therefore, often beneficial to interpolate the survival estimates, see [this paper](https://arxiv.org/abs/1910.06724) for a discussion.\n",
    "Linear interpolation (constant density interpolation) can be performed with the `interpolate` method. We also need to choose how many points we want to replace each grid point with. Her we will use 10."
   ]
  },
  {
   "cell_type": "code",
   "execution_count": 26,
   "metadata": {},
   "outputs": [],
   "source": [
    "surv = model.interpolate(10).predict_surv_df(x_test)"
   ]
  },
  {
   "cell_type": "code",
   "execution_count": 27,
   "metadata": {},
   "outputs": [
    {
     "data": {
      "image/png": "[encoded data removed]",
      "text/plain": [
       "<Figure size 640x480 with 1 Axes>"
      ]
     },
     "metadata": {},
     "output_type": "display_data"
    }
   ],
   "source": [
    "surv.iloc[:, :5].plot(drawstyle='steps-post')\n",
    "plt.ylabel('S(t | x)')\n",
    "_ = plt.xlabel('Time')"
   ]
  },
  {
   "cell_type": "markdown",
   "metadata": {},
   "source": [
    "## Evaluation\n",
    "\n",
    "The `EvalSurv` class contains some useful evaluation criteria for time-to-event prediction.\n",
    "We set `censor_surv = 'km'` to state that we want to use Kaplan-Meier for estimating the censoring distribution.\n"
   ]
  },
  {
   "cell_type": "code",
   "execution_count": 28,
   "metadata": {},
   "outputs": [
    {
     "name": "stderr",
     "output_type": "stream",
     "text": [
      "C:\\Users\\youhs\\AppData\\Roaming\\Python\\Python39\\site-packages\\pycox\\evaluation\\eval_surv.py:36: FutureWarning: is_monotonic is deprecated and will be removed in a future version. Use is_monotonic_increasing instead.\n",
      "  assert pd.Series(self.index_surv).is_monotonic\n"
     ]
    }
   ],
   "source": [
    "ev = EvalSurv(surv, durations_test, events_test, censor_surv='km')"
   ]
  },
  {
   "cell_type": "markdown",
   "metadata": {},
   "source": [
    "#### Concordance\n",
    "\n",
    "We start with the event-time concordance by [Antolini et al. 2005](https://onlinelibrary.wiley.com/doi/10.1002/sim.2427)."
   ]
  },
  {
   "cell_type": "code",
   "execution_count": null,
   "metadata": {},
   "outputs": [
    {
     "name": "stdout",
     "output_type": "stream",
     "text": [
      "> \u001b[1;32mc:\\users\\youhs\\appdata\\roaming\\python\\python39\\site-packages\\pycox\\evaluation\\eval_surv.py\u001b[0m(191)\u001b[0;36mconcordance_td\u001b[1;34m()\u001b[0m\n",
      "\u001b[1;32m    189 \u001b[1;33m        \"\"\"\n",
      "\u001b[0m\u001b[1;32m    190 \u001b[1;33m        \u001b[1;32mimport\u001b[0m \u001b[0mpdb\u001b[0m\u001b[1;33m;\u001b[0m \u001b[0mpdb\u001b[0m\u001b[1;33m.\u001b[0m\u001b[0mset_trace\u001b[0m\u001b[1;33m(\u001b[0m\u001b[1;33m)\u001b[0m\u001b[1;33m\u001b[0m\u001b[1;33m\u001b[0m\u001b[0m\n",
      "\u001b[0m\u001b[1;32m--> 191 \u001b[1;33m        return concordance_td(self.durations, self.events, self.surv.values,\n",
      "\u001b[0m\u001b[1;32m    192 \u001b[1;33m                              self._duration_idx(), method)\n",
      "\u001b[0m\u001b[1;32m    193 \u001b[1;33m\u001b[1;33m\u001b[0m\u001b[0m\n",
      "\u001b[0m\n",
      "ipdb> self.durations\n",
      "array([  31.,  827.,   79., ...,  640.,   51., 1388.], dtype=float32)\n",
      "ipdb> self.events\n",
      "array([1, 0, 1, ..., 0, 1, 1])\n",
      "ipdb> self.surv.values\n",
      "array([[0.9962622 , 0.99948454, 0.9989354 , ..., 0.9998372 , 0.99900556,\n",
      "        0.9997919 ],\n",
      "       [0.9694381 , 0.9726368 , 0.980168  , ..., 0.981996  , 0.97719824,\n",
      "        0.99188364],\n",
      "       [0.94261396, 0.9457891 , 0.96140057, ..., 0.9641547 , 0.95539093,\n",
      "        0.9839754 ],\n",
      "       ...,\n",
      "       [0.07490313, 0.09184766, 0.10361898, ..., 0.08237624, 0.05025965,\n",
      "        0.13544172],\n",
      "       [0.03883559, 0.0473401 , 0.05322677, ..., 0.0420087 , 0.02594352,\n",
      "        0.0688706 ],\n",
      "       [0.00276798, 0.00283253, 0.00283462, ..., 0.00164109, 0.00162739,\n",
      "        0.00229949]], dtype=float32)\n",
      "ipdb> self._duration_idx()\n",
      "array([13, 33, 21, ..., 32, 18, 36], dtype=int64)\n"
     ]
    }
   ],
   "source": [
    "ev.concordance_td('antolini')"
   ]
  },
  {
   "cell_type": "markdown",
   "metadata": {},
   "source": [
    "#### Brier Score\n",
    "\n",
    "We can plot the the [IPCW Brier score](https://onlinelibrary.wiley.com/doi/abs/10.1002/%28SICI%291097-0258%2819990915/30%2918%3A17/18%3C2529%3A%3AAID-SIM274%3E3.0.CO%3B2-5) for a given set of times.\n",
    "Here we just use 100 time-points between the min and max duration in the test set.\n",
    "Note that the score becomes unstable for the highest times. It is therefore common to disregard the rightmost part of the graph."
   ]
  },
  {
   "cell_type": "code",
   "execution_count": null,
   "metadata": {},
   "outputs": [],
   "source": [
    "time_grid = np.linspace(durations_test.min(), durations_test.max(), 100)\n",
    "ev.brier_score(time_grid).plot()\n",
    "plt.ylabel('Brier score')\n",
    "_ = plt.xlabel('Time')"
   ]
  },
  {
   "cell_type": "markdown",
   "metadata": {},
   "source": [
    "#### Negative binomial log-likelihood\n",
    "\n",
    "In a similar manner, we can plot the the [IPCW negative binomial log-likelihood](https://onlinelibrary.wiley.com/doi/abs/10.1002/%28SICI%291097-0258%2819990915/30%2918%3A17/18%3C2529%3A%3AAID-SIM274%3E3.0.CO%3B2-5)."
   ]
  },
  {
   "cell_type": "code",
   "execution_count": null,
   "metadata": {},
   "outputs": [],
   "source": [
    "ev.nbll(time_grid).plot()\n",
    "plt.ylabel('NBLL')\n",
    "_ = plt.xlabel('Time')"
   ]
  },
  {
   "cell_type": "markdown",
   "metadata": {},
   "source": [
    "#### Integrated scores\n",
    "\n",
    "The two time-dependent scores above can be integrated over time to produce a single score [Graf et al. 1999](https://onlinelibrary.wiley.com/doi/abs/10.1002/%28SICI%291097-0258%2819990915/30%2918%3A17/18%3C2529%3A%3AAID-SIM274%3E3.0.CO%3B2-5). In practice this is done by numerical integration over a defined `time_grid`."
   ]
  },
  {
   "cell_type": "code",
   "execution_count": null,
   "metadata": {},
   "outputs": [],
   "source": [
    "ev.integrated_brier_score(time_grid) "
   ]
  },
  {
   "cell_type": "code",
   "execution_count": null,
   "metadata": {},
   "outputs": [],
   "source": [
    "ev.integrated_nbll(time_grid) "
   ]
  },
  {
   "cell_type": "code",
   "execution_count": null,
   "metadata": {},
   "outputs": [],
   "source": [
    "labtrans.cuts[-2:]"
   ]
  },
  {
   "cell_type": "markdown",
   "metadata": {},
   "source": [
    "### Inference"
   ]
  },
  {
   "cell_type": "code",
   "execution_count": null,
   "metadata": {},
   "outputs": [],
   "source": [
    "times"
   ]
  },
  {
   "cell_type": "code",
   "execution_count": null,
   "metadata": {},
   "outputs": [],
   "source": [
    "# surv = model.predict_surv_df(x_test)\n",
    "\n",
    "surv_tr = surv.T # (samples, seq_len)\n",
    "\n",
    "row = surv_tr.iloc[0]\n",
    "ixs = [abs(row.index - t).argmin() for t in times]\n",
    "\n",
    "print(row.index[ixs])"
   ]
  },
  {
   "cell_type": "code",
   "execution_count": null,
   "metadata": {},
   "outputs": [],
   "source": [
    "out_survival = surv_tr.loc[:, row.index[ixs]]\n",
    "out_risk = 1.0 - out_survival\n",
    "\n",
    "# pd -> numpy\n",
    "out_survival = np.array(out_survival)\n",
    "out_risk      = np.array(out_risk)"
   ]
  },
  {
   "cell_type": "code",
   "execution_count": null,
   "metadata": {},
   "outputs": [],
   "source": [
    "t_train, e_train = get_target(df_train)\n",
    "t_test, e_test = get_target(df_test)\n",
    "t_val, e_val = get_target(df_val)"
   ]
  },
  {
   "cell_type": "code",
   "execution_count": null,
   "metadata": {},
   "outputs": [],
   "source": [
    "from sksurv.metrics import concordance_index_ipcw, brier_score, cumulative_dynamic_auc"
   ]
  },
  {
   "cell_type": "code",
   "execution_count": null,
   "metadata": {},
   "outputs": [],
   "source": [
    "cis = []\n",
    "brs = []\n",
    "\n",
    "et_train = np.array([(e_train[i], t_train[i]) for i in range(len(e_train))],\n",
    "                 dtype = [('e', bool), ('t', float)])\n",
    "et_test = np.array([(e_test[i], t_test[i]) for i in range(len(e_test))],\n",
    "                 dtype = [('e', bool), ('t', float)])\n",
    "et_val = np.array([(e_val[i], t_val[i]) for i in range(len(e_val))],\n",
    "                 dtype = [('e', bool), ('t', float)])\n",
    "\n",
    "for i, _ in enumerate(times):\n",
    "    cis.append(concordance_index_ipcw(et_train, et_test, out_risk[:, i], times[i])[0])\n",
    "brs.append(brier_score(et_train, et_test, out_survival, times)[1])\n",
    "roc_auc = []\n",
    "for i, _ in enumerate(times):\n",
    "    roc_auc.append(cumulative_dynamic_auc(et_train, et_test, out_risk[:, i], times[i])[0].item())\n",
    "for horizon in enumerate(horizons):\n",
    "    print(f\"For {horizon[1]} quantile,\")\n",
    "    print(\"TD Concordance Index:\", cis[horizon[0]])\n",
    "    print(\"Brier Score:\", brs[0][horizon[0]])\n",
    "    print(\"ROC AUC \", roc_auc[horizon[0]], \"\\n\")"
   ]
  },
  {
   "cell_type": "markdown",
   "metadata": {},
   "source": [
    "- seed = 1234\n",
    "\n",
    "\n",
    "    - For 0.25 quantile,\n",
    "    TD Concordance Index: 0.6646790020797932\n",
    "    Brier Score: 0.13578049197797565\n",
    "    ROC AUC  0.6739527117128423 \n",
    "\n",
    "    - For 0.5 quantile,\n",
    "    TD Concordance Index: 0.6302446434523588\n",
    "    Brier Score: 0.21215164997094244\n",
    "    ROC AUC  0.6505557228159968 \n",
    "\n",
    "    - For 0.75 quantile,\n",
    "    TD Concordance Index: 0.6191723824509585\n",
    "    Brier Score: 0.22997915779859154\n",
    "    ROC AUC  0.6691797489290168 \n",
    "\n",
    "\n",
    "- seed = 42\n",
    "\n",
    "\n",
    "    - For 0.25 quantile,\n",
    "    TD Concordance Index: 0.635987601285441\n",
    "    Brier Score: 0.13843370009072092\n",
    "    ROC AUC  0.6390623148916005 \n",
    "\n",
    "    - For 0.5 quantile,\n",
    "    TD Concordance Index: 0.607981522203094\n",
    "    Brier Score: 0.2194468775539608\n",
    "    ROC AUC  0.6218309084105567 \n",
    "\n",
    "    - For 0.75 quantile,\n",
    "    TD Concordance Index: 0.6077653754107426\n",
    "    Brier Score: 0.2366095993199993\n",
    "    ROC AUC  0.6574926986509457 "
   ]
  },
  {
   "cell_type": "code",
   "execution_count": null,
   "metadata": {},
   "outputs": [],
   "source": []
  },
  {
   "cell_type": "code",
   "execution_count": null,
   "metadata": {},
   "outputs": [],
   "source": [
    "import pandas as pd"
   ]
  },
  {
   "cell_type": "code",
   "execution_count": null,
   "metadata": {},
   "outputs": [],
   "source": [
    "pd.DataFrame({'C_td': cis, 'AUC': roc_auc}, index=horizons).plot(kind='bar', rot=0)"
   ]
  },
  {
   "cell_type": "code",
   "execution_count": null,
   "metadata": {},
   "outputs": [],
   "source": [
    "from pycox.models import DeepHitSingle\n",
    "from pycox.models.pmf import PMFBase\n",
    "from pycox.models.base import SurvBase"
   ]
  },
  {
   "cell_type": "code",
   "execution_count": null,
   "metadata": {},
   "outputs": [],
   "source": [
    "DeepHitSingle??"
   ]
  },
  {
   "cell_type": "code",
   "execution_count": null,
   "metadata": {},
   "outputs": [],
   "source": [
    "PMFBase??"
   ]
  },
  {
   "cell_type": "code",
   "execution_count": null,
   "metadata": {},
   "outputs": [],
   "source": [
    "SurvBase??"
   ]
  },
  {
   "cell_type": "code",
   "execution_count": null,
   "metadata": {},
   "outputs": [],
   "source": [
    "from torchtuples import Model, optim, practical, data\n"
   ]
  },
  {
   "cell_type": "code",
   "execution_count": null,
   "metadata": {},
   "outputs": [],
   "source": [
    "practical.accuracy_binary??"
   ]
  },
  {
   "cell_type": "code",
   "execution_count": null,
   "metadata": {},
   "outputs": [],
   "source": [
    "ev.concordance_td??"
   ]
  },
  {
   "cell_type": "code",
   "execution_count": null,
   "metadata": {},
   "outputs": [],
   "source": [
    "surv.index"
   ]
  },
  {
   "cell_type": "code",
   "execution_count": null,
   "metadata": {},
   "outputs": [],
   "source": []
  }
 ],
 "metadata": {
  "kernelspec": {
   "display_name": "Python 3 (ipykernel)",
   "language": "python",
   "name": "python3"
  },
  "language_info": {
   "codemirror_mode": {
    "name": "ipython",
    "version": 3
   },
   "file_extension": ".py",
   "mimetype": "text/x-python",
   "name": "python",
   "nbconvert_exporter": "python",
   "pygments_lexer": "ipython3",
   "version": "3.9.16"
  }
 },
 "nbformat": 4,
 "nbformat_minor": 4
}
