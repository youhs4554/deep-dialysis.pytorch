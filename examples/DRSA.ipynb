{
 "cells": [
  {
   "cell_type": "markdown",
   "id": "1351585f",
   "metadata": {},
   "source": [
    "## DRSA : Deep Recurrent Survival Analysis\n",
    "- paper : https://arxiv.org/pdf/1809.02403.pdf"
   ]
  },
  {
   "cell_type": "code",
   "execution_count": 1,
   "id": "18321bc1",
   "metadata": {},
   "outputs": [],
   "source": [
    "import sys, os\n",
    "sys.path.append(os.path.abspath('..'))"
   ]
  },
  {
   "cell_type": "code",
   "execution_count": 2,
   "id": "afd30b1e",
   "metadata": {},
   "outputs": [],
   "source": [
    "from drsa.model import DRSA\n",
    "import torch\n",
    "import torch.nn as nn\n",
    "import torch.optim as optim\n",
    "import pycox.datasets as dt\n",
    "import numpy as np\n",
    "from sklearn.preprocessing import StandardScaler\n",
    "from sklearn_pandas import DataFrameMapper \n",
    "from torch.utils.data import Dataset\n",
    "from pycox.preprocessing import label_transforms\n",
    "import matplotlib.pyplot as plt"
   ]
  },
  {
   "cell_type": "code",
   "execution_count": 3,
   "id": "b30c6aa0",
   "metadata": {},
   "outputs": [],
   "source": [
    "# for deterministic results\n",
    "seed = 1234\n",
    "\n",
    "np.random.seed(seed)\n",
    "_ = torch.manual_seed(seed)\n",
    "torch.cuda.manual_seed(seed)\n",
    "torch.cuda.manual_seed_all(seed) # if you are using multi-GPU"
   ]
  },
  {
   "cell_type": "markdown",
   "id": "6d49b3cb",
   "metadata": {},
   "source": [
    "## Dataset Class"
   ]
  },
  {
   "cell_type": "code",
   "execution_count": 4,
   "id": "e19e8d13",
   "metadata": {},
   "outputs": [],
   "source": [
    "class DRSA_Dataset(Dataset):\n",
    "    def __init__(self, name, phase='train'):\n",
    "        super().__init__()\n",
    "        if name == 'support':\n",
    "            cols_standardize =  ['x0', 'x7', 'x8', 'x9', 'x10', 'x11', 'x12', 'x13']\n",
    "            cols_leave = ['x1', 'x2', 'x3', 'x4', 'x5', 'x6']\n",
    "            max_seq_len = 20 # will be modified\n",
    "        elif name == 'metabric':\n",
    "            cols_standardize = ['x0', 'x1', 'x2', 'x3', 'x8']\n",
    "            cols_leave = ['x4', 'x5', 'x6', 'x7']\n",
    "            max_seq_len = 20 # will be modified\n",
    "        else:\n",
    "            raise NotImplementedError\n",
    "                        \n",
    "        self.max_seq_len = max_seq_len\n",
    "        self.cols_standardize = cols_standardize\n",
    "        self.cols_leave = cols_leave\n",
    "        \n",
    "        cols_tgt = ['duration', 'event']\n",
    "        \n",
    "        # Split train/val/test\n",
    "        df_full = eval(f'dt.{name}.read_df()')\n",
    "        df_test = df_full.sample(frac=0.2)\n",
    "        df_train = df_full.drop(df_test.index)\n",
    "        df_val = df_train.sample(frac=0.2)\n",
    "        df_train = df_train.drop(df_val.index)\n",
    "        \n",
    "        # Target info\n",
    "        y_train = df_train[cols_tgt].values\n",
    "        y_val = df_val[cols_tgt].values\n",
    "        y_test = df_test[cols_tgt].values\n",
    "        \n",
    "        # Target label preprocessing (duration -> duration_idxs)\n",
    "        target_parse_fn = DRSA_Dataset.get_target\n",
    "        labtrans = label_transforms.LabTransDiscreteTime(max_seq_len)\n",
    "        y_train  = np.c_[labtrans.fit_transform(*target_parse_fn(y_train))]\n",
    "        y_val    = np.c_[labtrans.transform(*target_parse_fn(y_val))]\n",
    "        \n",
    "        # Input Covariates\n",
    "        df_train = df_train.drop(cols_tgt, axis=1)\n",
    "        df_val = df_val.drop(cols_tgt, axis=1)\n",
    "        df_test = df_test.drop(cols_tgt, axis=1)\n",
    "        \n",
    "        # Input data preprocessing\n",
    "        standardize = [([col], StandardScaler()) for col in cols_standardize]\n",
    "        leave = [(col, None) for col in cols_leave]\n",
    "        \n",
    "        # assume categorical columns located first (for embedding later)\n",
    "        x_mapper = DataFrameMapper(leave + standardize)\n",
    "        x_train = x_mapper.fit_transform(df_train).astype('float32')\n",
    "        x_val = x_mapper.transform(df_val).astype('float32')\n",
    "        x_test = x_mapper.transform(df_test).astype('float32')\n",
    "        \n",
    "        if phase == 'train':\n",
    "            self.X, self.Y = x_train, y_train\n",
    "        if phase == 'val':\n",
    "            self.X, self.Y = x_val, y_val\n",
    "        if phase == 'test':\n",
    "            self.X, self.Y = x_test, y_test\n",
    "        \n",
    "        setattr(self, 'labtrans', labtrans)\n",
    "                    \n",
    "    @property\n",
    "    def numeric_columns(self):\n",
    "        return self.cols_standardize\n",
    "    \n",
    "    @property\n",
    "    def categorical_columns(self):\n",
    "        return self.cols_leave\n",
    "    \n",
    "    @property\n",
    "    def n_features(self):\n",
    "        return self.X.shape[1]\n",
    "    \n",
    "    @property\n",
    "    def n_embeddings(self):\n",
    "        return [ len(np.unique(self.X[:, ix])) for ix in range(len(self.categorical_columns)) ]\n",
    "    \n",
    "    @staticmethod\n",
    "    def get_target(y):\n",
    "        durations, events = y.T\n",
    "        return durations, events\n",
    "        \n",
    "    def __getitem__(self, ix):\n",
    "        x = torch.from_numpy(self.X[ix])\n",
    "        y = torch.from_numpy(self.Y[ix])\n",
    "        \n",
    "        # Add time features on tiled covariates\n",
    "        xs = x.tile(self.max_seq_len, 1)\n",
    "        t = torch.arange(self.max_seq_len).unsqueeze(1) / self.max_seq_len\n",
    "        xs = torch.cat((xs, t), dim=1)\n",
    "        \n",
    "        return xs, y\n",
    "    \n",
    "    def __len__(self):\n",
    "        return len(self.X)"
   ]
  },
  {
   "cell_type": "markdown",
   "id": "010285da",
   "metadata": {},
   "source": [
    "## Dataloaders"
   ]
  },
  {
   "cell_type": "code",
   "execution_count": 5,
   "id": "97e24d3d",
   "metadata": {},
   "outputs": [],
   "source": [
    "from torch.utils.data import DataLoader\n",
    "\n",
    "name = 'metabric' # name of dataset\n",
    "batch_size = 256\n",
    "\n",
    "train_ds = DRSA_Dataset(name, 'train')\n",
    "val_ds = DRSA_Dataset(name, 'val')\n",
    "test_ds = DRSA_Dataset(name, 'test')\n",
    "\n",
    "train_loader = DataLoader(train_ds, batch_size=batch_size, shuffle=True)\n",
    "val_loader = DataLoader(val_ds, batch_size=batch_size, shuffle=False)"
   ]
  },
  {
   "cell_type": "markdown",
   "id": "ec295bac",
   "metadata": {},
   "source": [
    "## instantiating embedding parameters"
   ]
  },
  {
   "cell_type": "code",
   "execution_count": 6,
   "id": "52c11b34",
   "metadata": {},
   "outputs": [],
   "source": [
    "if not torch.backends.mps.is_available():\n",
    "    device = 'cuda:0' if torch.cuda.is_available() else 'cpu'\n",
    "else:\n",
    "    device = torch.device(\"mps\")"
   ]
  },
  {
   "cell_type": "code",
   "execution_count": 7,
   "id": "0df74fbb",
   "metadata": {},
   "outputs": [
    {
     "data": {
      "text/plain": [
       "device(type='mps')"
      ]
     },
     "execution_count": 7,
     "metadata": {},
     "output_type": "execute_result"
    }
   ],
   "source": [
    "device"
   ]
  },
  {
   "cell_type": "code",
   "execution_count": 9,
   "id": "53ea7449",
   "metadata": {},
   "outputs": [],
   "source": [
    "embedding_size = 50\n",
    "\n",
    "def get_embeddings(n_embeddings):\n",
    "    layers = []\n",
    "    for nb_emb in n_embeddings:\n",
    "        emb = torch.nn.Embedding(nb_emb, embedding_size, device=device)\n",
    "        emb.weight.data.uniform_(-0.1, 0.1)\n",
    "        layers.append(emb)\n",
    "    return layers\n",
    "    \n",
    "embeddings = get_embeddings(train_ds.n_embeddings)"
   ]
  },
  {
   "cell_type": "markdown",
   "id": "637f8ba0",
   "metadata": {},
   "source": [
    "## instantiating model"
   ]
  },
  {
   "cell_type": "code",
   "execution_count": 10,
   "id": "f5064aba",
   "metadata": {},
   "outputs": [],
   "source": [
    "import pandas as pd\n",
    "import torchtuples as tt\n",
    "from pycox import models\n",
    "from pycox.models.utils import pad_col\n",
    "from pycox.models.interpolation import InterpolateLogisticHazard\n",
    "from pycox.evaluation.concordance import concordance_td\n",
    "from pycox import utils"
   ]
  },
  {
   "cell_type": "code",
   "execution_count": 11,
   "id": "02be41ce",
   "metadata": {},
   "outputs": [],
   "source": [
    "class PyCoxWrapper(tt.Model):\n",
    "    \"\"\"Wrapper class for pycox API compatibility\n",
    "    \"\"\"\n",
    "    _steps ='post'\n",
    "    \n",
    "    def __init__(self, net, loss=None, optimizer=None, device=None, duration_index=None):\n",
    "        \n",
    "        self.duration_index = duration_index\n",
    "        super().__init__(net, loss, optimizer, device)\n",
    "\n",
    "    @property\n",
    "    def duration_index(self):\n",
    "        \"\"\"\n",
    "        Array of durations that defines the discrete times. This is used to set the index\n",
    "        of the DataFrame in `predict_surv_df`.\n",
    "        \n",
    "        Returns:\n",
    "            np.array -- Duration index.\n",
    "        \"\"\"\n",
    "        return self._duration_index\n",
    "\n",
    "    @duration_index.setter\n",
    "    def duration_index(self, val):\n",
    "        self._duration_index = val\n",
    "    \n",
    "    def predict_surv(self, input, batch_size=8224, numpy=None, eval_=True, to_cpu=False,\n",
    "                     num_workers=0):\n",
    "        #pmf = self.predict_pmf(input, batch_size, False, eval_, to_cpu, num_workers)\n",
    "        preds = self.predict(input, batch_size, False, eval_, False, to_cpu, num_workers)\n",
    "        preds = pad_col(preds[..., 0])[:, :-1]\n",
    "        #surv = (1-preds).cumprod(1)\n",
    "        #surv = 1 - preds.cumsum(1)\n",
    "        surv = (1 - preds).add(1e-7).log().cumsum(1).exp()\n",
    "        return tt.utils.array_or_tensor(surv, numpy, input)\n",
    "\n",
    "    def predict_pmf(self, input, batch_size=8224, numpy=None, eval_=True, to_cpu=False,\n",
    "                    num_workers=0):\n",
    "        preds = self.predict(input, batch_size, False, eval_, False, to_cpu, num_workers)\n",
    "        pmf = pad_col(preds[..., 0])[:, :-1]\n",
    "        return tt.utils.array_or_tensor(pmf, numpy, input)\n",
    "\n",
    "    def predict_surv_df(self, input, batch_size=8224, eval_=True, num_workers=0):\n",
    "        surv = self.predict_surv(input, batch_size, True, eval_, True, num_workers)\n",
    "        return pd.DataFrame(surv.transpose(), self.duration_index)\n",
    "\n",
    "    def interpolate(self, sub=10, scheme='const_pdf', duration_index=None):\n",
    "        \"\"\"Use interpolation for predictions.\n",
    "        There are only one scheme:\n",
    "            `const_pdf` and `lin_surv` which assumes pice-wise constant pmf in each interval (linear survival).\n",
    "        \n",
    "        Keyword Arguments:\n",
    "            sub {int} -- Number of \"sub\" units in interpolation grid. If `sub` is 10 we have a grid with\n",
    "                10 times the number of grid points than the original `duration_index` (default: {10}).\n",
    "            scheme {str} -- Type of interpolation {'const_hazard', 'const_pdf'}.\n",
    "                See `InterpolateDiscrete` (default: {'const_pdf'})\n",
    "            duration_index {np.array} -- Cuts used for discretization. Does not affect interpolation,\n",
    "                only for setting index in `predict_surv_df` (default: {None})\n",
    "        \n",
    "        Returns:\n",
    "            [InterpolationPMF] -- Object for prediction with interpolation.\n",
    "        \"\"\"\n",
    "        if duration_index is None:\n",
    "            duration_index = self.duration_index\n",
    "        return InterpolateLogisticHazard(self, scheme, duration_index, sub)"
   ]
  },
  {
   "cell_type": "code",
   "execution_count": 12,
   "id": "f8d5f33f",
   "metadata": {},
   "outputs": [
    {
     "data": {
      "text/plain": [
       "DRSA(\n",
       "  (lstm): LSTM(206, 64, batch_first=True, bidirectional=True)\n",
       "  (fc): Linear(in_features=128, out_features=1, bias=True)\n",
       "  (linear_dropout): Dropout(p=0.0, inplace=False)\n",
       "  (sigmoid): Sigmoid()\n",
       "  (params_to_train): ModuleList(\n",
       "    (0): Embedding(2, 50)\n",
       "    (1): Embedding(2, 50)\n",
       "    (2): Embedding(2, 50)\n",
       "    (3): Embedding(2, 50)\n",
       "  )\n",
       ")"
      ]
     },
     "execution_count": 12,
     "metadata": {},
     "output_type": "execute_result"
    }
   ],
   "source": [
    "net = DRSA(\n",
    "    n_features=train_ds.n_features+1,  # +1 for time features\n",
    "    hidden_dim=64,\n",
    "    n_layers=1,\n",
    "    embeddings=embeddings,\n",
    ")\n",
    "net.to(device)"
   ]
  },
  {
   "cell_type": "code",
   "execution_count": 13,
   "id": "c6ec63eb",
   "metadata": {},
   "outputs": [],
   "source": [
    "from drsa.functions import event_time_loss, log_event_rate, log_survival_rate\n",
    "from pycox.models.loss import nll_logistic_hazard\n",
    "\n",
    "class LossDRSA(nn.Module):\n",
    "    def __init__(self, alpha=0.3):\n",
    "        super().__init__()\n",
    "        assert (alpha >= 0) and (alpha <= 1), 'Need `alpha` in [0, 1].'\n",
    "        self.alpha = alpha\n",
    "\n",
    "    def forward(self, preds, target=None):\n",
    "        idx_durations, events = target.T\n",
    "        \n",
    "        L_z = event_time_loss(preds)\n",
    "        \n",
    "        c = 1.0 - events\n",
    "        log_St = log_survival_rate(preds).squeeze()\n",
    "        log_Wt = log_event_rate(preds).squeeze()\n",
    "        L_c = -(c*log_St+(1-c)*log_Wt).mean(dim=0).squeeze()\n",
    "        \n",
    "        \n",
    "        def inverse_sigmoid(y):\n",
    "            return torch.log(y / (1 - y))\n",
    "\n",
    "        nll_loss = nll_logistic_hazard(inverse_sigmoid(preds[..., 0]), idx_durations.long(), events.float())\n",
    "        \n",
    "        # weighted average of L_z and L_c\n",
    "        loss = (self.alpha * L_z) + ((1 - self.alpha) * L_c)\n",
    "        loss += nll_loss\n",
    "        return loss    "
   ]
  },
  {
   "cell_type": "code",
   "execution_count": 14,
   "id": "ec3edc66",
   "metadata": {},
   "outputs": [],
   "source": [
    "labtrans = train_ds.labtrans\n",
    "optimizer = tt.optim.Adam(lr=1e-3)\n",
    "model = PyCoxWrapper(net, LossDRSA(), optimizer, \n",
    "                     duration_index=labtrans.cuts)"
   ]
  },
  {
   "cell_type": "code",
   "execution_count": 15,
   "id": "8b58f435",
   "metadata": {
    "scrolled": true
   },
   "outputs": [
    {
     "name": "stdout",
     "output_type": "stream",
     "text": [
      "0:\t[0s / 0s],\t\ttrain_loss: 12.7209,\tval_loss: 11.1434\n",
      "1:\t[0s / 0s],\t\ttrain_loss: 10.6248,\tval_loss: 8.9011\n",
      "2:\t[0s / 0s],\t\ttrain_loss: 8.0438,\tval_loss: 6.0542\n",
      "3:\t[0s / 1s],\t\ttrain_loss: 5.1703,\tval_loss: 3.9407\n",
      "4:\t[0s / 1s],\t\ttrain_loss: 3.7412,\tval_loss: 3.8544\n",
      "5:\t[0s / 1s],\t\ttrain_loss: 3.7939,\tval_loss: 4.0428\n",
      "6:\t[0s / 1s],\t\ttrain_loss: 3.8278,\tval_loss: 3.9324\n",
      "7:\t[0s / 1s],\t\ttrain_loss: 3.6797,\tval_loss: 3.7519\n",
      "8:\t[0s / 2s],\t\ttrain_loss: 3.5547,\tval_loss: 3.6455\n",
      "9:\t[0s / 2s],\t\ttrain_loss: 3.5022,\tval_loss: 3.6120\n",
      "10:\t[0s / 2s],\t\ttrain_loss: 3.4947,\tval_loss: 3.5980\n",
      "11:\t[0s / 2s],\t\ttrain_loss: 3.4875,\tval_loss: 3.5827\n",
      "12:\t[0s / 3s],\t\ttrain_loss: 3.4641,\tval_loss: 3.5736\n",
      "13:\t[0s / 3s],\t\ttrain_loss: 3.4493,\tval_loss: 3.5705\n",
      "14:\t[0s / 3s],\t\ttrain_loss: 3.4382,\tval_loss: 3.5669\n",
      "15:\t[0s / 3s],\t\ttrain_loss: 3.4395,\tval_loss: 3.5595\n",
      "16:\t[0s / 4s],\t\ttrain_loss: 3.4182,\tval_loss: 3.5466\n",
      "17:\t[0s / 4s],\t\ttrain_loss: 3.4101,\tval_loss: 3.5356\n",
      "18:\t[0s / 4s],\t\ttrain_loss: 3.4009,\tval_loss: 3.5269\n",
      "19:\t[0s / 4s],\t\ttrain_loss: 3.3978,\tval_loss: 3.5194\n",
      "20:\t[0s / 4s],\t\ttrain_loss: 3.3850,\tval_loss: 3.5130\n",
      "21:\t[0s / 5s],\t\ttrain_loss: 3.3817,\tval_loss: 3.5031\n",
      "22:\t[0s / 5s],\t\ttrain_loss: 3.3742,\tval_loss: 3.4953\n",
      "23:\t[0s / 5s],\t\ttrain_loss: 3.3637,\tval_loss: 3.4881\n",
      "24:\t[0s / 5s],\t\ttrain_loss: 3.3612,\tval_loss: 3.4795\n",
      "25:\t[0s / 6s],\t\ttrain_loss: 3.3475,\tval_loss: 3.4698\n",
      "26:\t[0s / 6s],\t\ttrain_loss: 3.3384,\tval_loss: 3.4620\n",
      "27:\t[0s / 6s],\t\ttrain_loss: 3.3374,\tval_loss: 3.4560\n",
      "28:\t[0s / 6s],\t\ttrain_loss: 3.3242,\tval_loss: 3.4449\n",
      "29:\t[0s / 7s],\t\ttrain_loss: 3.3196,\tval_loss: 3.4411\n",
      "30:\t[0s / 7s],\t\ttrain_loss: 3.3108,\tval_loss: 3.4359\n",
      "31:\t[0s / 7s],\t\ttrain_loss: 3.3011,\tval_loss: 3.4218\n",
      "32:\t[0s / 7s],\t\ttrain_loss: 3.2917,\tval_loss: 3.4112\n",
      "33:\t[0s / 7s],\t\ttrain_loss: 3.2787,\tval_loss: 3.4076\n",
      "34:\t[0s / 8s],\t\ttrain_loss: 3.2796,\tval_loss: 3.3928\n",
      "35:\t[0s / 8s],\t\ttrain_loss: 3.2627,\tval_loss: 3.3926\n",
      "36:\t[0s / 8s],\t\ttrain_loss: 3.2535,\tval_loss: 3.3788\n",
      "37:\t[0s / 8s],\t\ttrain_loss: 3.2457,\tval_loss: 3.3621\n",
      "38:\t[0s / 9s],\t\ttrain_loss: 3.2320,\tval_loss: 3.3623\n",
      "39:\t[0s / 9s],\t\ttrain_loss: 3.2334,\tval_loss: 3.3483\n",
      "40:\t[0s / 9s],\t\ttrain_loss: 3.2162,\tval_loss: 3.3320\n",
      "41:\t[0s / 9s],\t\ttrain_loss: 3.2113,\tval_loss: 3.3337\n",
      "42:\t[0s / 10s],\t\ttrain_loss: 3.1971,\tval_loss: 3.3136\n",
      "43:\t[0s / 10s],\t\ttrain_loss: 3.1891,\tval_loss: 3.3046\n",
      "44:\t[0s / 10s],\t\ttrain_loss: 3.1701,\tval_loss: 3.2978\n",
      "45:\t[0s / 10s],\t\ttrain_loss: 3.1594,\tval_loss: 3.2843\n",
      "46:\t[0s / 10s],\t\ttrain_loss: 3.1530,\tval_loss: 3.2750\n",
      "47:\t[0s / 11s],\t\ttrain_loss: 3.1418,\tval_loss: 3.2629\n",
      "48:\t[0s / 11s],\t\ttrain_loss: 3.1296,\tval_loss: 3.2532\n",
      "49:\t[0s / 11s],\t\ttrain_loss: 3.1225,\tval_loss: 3.2413\n",
      "50:\t[0s / 11s],\t\ttrain_loss: 3.1050,\tval_loss: 3.2308\n",
      "51:\t[0s / 12s],\t\ttrain_loss: 3.1023,\tval_loss: 3.2108\n",
      "52:\t[0s / 12s],\t\ttrain_loss: 3.0891,\tval_loss: 3.2299\n",
      "53:\t[0s / 12s],\t\ttrain_loss: 3.0916,\tval_loss: 3.1841\n",
      "54:\t[0s / 12s],\t\ttrain_loss: 3.0843,\tval_loss: 3.2173\n",
      "55:\t[0s / 13s],\t\ttrain_loss: 3.0768,\tval_loss: 3.1680\n",
      "56:\t[0s / 13s],\t\ttrain_loss: 3.0722,\tval_loss: 3.1855\n",
      "57:\t[0s / 13s],\t\ttrain_loss: 3.0516,\tval_loss: 3.1591\n",
      "58:\t[0s / 13s],\t\ttrain_loss: 3.0519,\tval_loss: 3.1508\n",
      "59:\t[0s / 13s],\t\ttrain_loss: 3.0383,\tval_loss: 3.1497\n",
      "60:\t[0s / 14s],\t\ttrain_loss: 3.0343,\tval_loss: 3.1625\n",
      "61:\t[0s / 14s],\t\ttrain_loss: 3.0334,\tval_loss: 3.1184\n",
      "62:\t[0s / 14s],\t\ttrain_loss: 3.0150,\tval_loss: 3.1485\n",
      "63:\t[0s / 14s],\t\ttrain_loss: 3.0108,\tval_loss: 3.1082\n",
      "64:\t[0s / 15s],\t\ttrain_loss: 3.0080,\tval_loss: 3.1105\n",
      "65:\t[0s / 15s],\t\ttrain_loss: 3.0064,\tval_loss: 3.1008\n",
      "66:\t[0s / 15s],\t\ttrain_loss: 2.9928,\tval_loss: 3.0896\n",
      "67:\t[0s / 15s],\t\ttrain_loss: 2.9823,\tval_loss: 3.1142\n",
      "68:\t[0s / 16s],\t\ttrain_loss: 2.9818,\tval_loss: 3.0818\n",
      "69:\t[0s / 16s],\t\ttrain_loss: 2.9694,\tval_loss: 3.1181\n",
      "70:\t[0s / 16s],\t\ttrain_loss: 2.9674,\tval_loss: 3.0738\n",
      "71:\t[0s / 16s],\t\ttrain_loss: 2.9620,\tval_loss: 3.0891\n",
      "72:\t[0s / 16s],\t\ttrain_loss: 2.9561,\tval_loss: 3.0679\n",
      "73:\t[0s / 17s],\t\ttrain_loss: 2.9566,\tval_loss: 3.0805\n",
      "74:\t[0s / 17s],\t\ttrain_loss: 2.9454,\tval_loss: 3.0700\n",
      "75:\t[0s / 17s],\t\ttrain_loss: 2.9401,\tval_loss: 3.0629\n",
      "76:\t[0s / 17s],\t\ttrain_loss: 2.9406,\tval_loss: 3.0540\n",
      "77:\t[0s / 18s],\t\ttrain_loss: 2.9384,\tval_loss: 3.0526\n",
      "78:\t[0s / 18s],\t\ttrain_loss: 2.9364,\tval_loss: 3.0663\n",
      "79:\t[0s / 18s],\t\ttrain_loss: 2.9235,\tval_loss: 3.0488\n",
      "80:\t[0s / 18s],\t\ttrain_loss: 2.9232,\tval_loss: 3.0659\n",
      "81:\t[0s / 19s],\t\ttrain_loss: 2.9246,\tval_loss: 3.0201\n",
      "82:\t[0s / 19s],\t\ttrain_loss: 2.9358,\tval_loss: 3.0532\n",
      "83:\t[0s / 19s],\t\ttrain_loss: 2.9346,\tval_loss: 3.0363\n",
      "84:\t[0s / 19s],\t\ttrain_loss: 2.9165,\tval_loss: 3.0203\n",
      "85:\t[0s / 19s],\t\ttrain_loss: 2.9164,\tval_loss: 3.0520\n",
      "86:\t[0s / 20s],\t\ttrain_loss: 2.9138,\tval_loss: 3.0149\n",
      "87:\t[0s / 20s],\t\ttrain_loss: 2.9040,\tval_loss: 3.0292\n",
      "88:\t[0s / 20s],\t\ttrain_loss: 2.9009,\tval_loss: 3.0055\n",
      "89:\t[0s / 20s],\t\ttrain_loss: 2.8975,\tval_loss: 3.0301\n",
      "90:\t[0s / 21s],\t\ttrain_loss: 2.8939,\tval_loss: 3.0076\n",
      "91:\t[0s / 21s],\t\ttrain_loss: 2.8838,\tval_loss: 3.0255\n",
      "92:\t[0s / 21s],\t\ttrain_loss: 2.8878,\tval_loss: 3.0038\n",
      "93:\t[0s / 21s],\t\ttrain_loss: 2.9039,\tval_loss: 3.0344\n",
      "94:\t[0s / 22s],\t\ttrain_loss: 2.8863,\tval_loss: 2.9971\n",
      "95:\t[0s / 22s],\t\ttrain_loss: 2.8768,\tval_loss: 3.0200\n",
      "96:\t[0s / 22s],\t\ttrain_loss: 2.8852,\tval_loss: 2.9879\n",
      "97:\t[0s / 22s],\t\ttrain_loss: 2.8856,\tval_loss: 3.0112\n",
      "98:\t[0s / 22s],\t\ttrain_loss: 2.8747,\tval_loss: 2.9963\n",
      "99:\t[0s / 23s],\t\ttrain_loss: 2.8653,\tval_loss: 2.9919\n",
      "100:\t[0s / 23s],\t\ttrain_loss: 2.8645,\tval_loss: 2.9907\n",
      "101:\t[0s / 23s],\t\ttrain_loss: 2.8703,\tval_loss: 2.9900\n",
      "102:\t[0s / 23s],\t\ttrain_loss: 2.8639,\tval_loss: 2.9946\n",
      "103:\t[0s / 24s],\t\ttrain_loss: 2.8614,\tval_loss: 2.9717\n",
      "104:\t[0s / 24s],\t\ttrain_loss: 2.8552,\tval_loss: 2.9903\n",
      "105:\t[0s / 24s],\t\ttrain_loss: 2.8570,\tval_loss: 2.9707\n",
      "106:\t[0s / 24s],\t\ttrain_loss: 2.8583,\tval_loss: 3.0048\n",
      "107:\t[0s / 25s],\t\ttrain_loss: 2.8585,\tval_loss: 2.9712\n",
      "108:\t[0s / 25s],\t\ttrain_loss: 2.8518,\tval_loss: 2.9663\n",
      "109:\t[0s / 25s],\t\ttrain_loss: 2.8461,\tval_loss: 2.9930\n",
      "110:\t[0s / 25s],\t\ttrain_loss: 2.8425,\tval_loss: 2.9636\n",
      "111:\t[0s / 25s],\t\ttrain_loss: 2.8423,\tval_loss: 2.9831\n",
      "112:\t[0s / 26s],\t\ttrain_loss: 2.8501,\tval_loss: 2.9759\n",
      "113:\t[0s / 26s],\t\ttrain_loss: 2.8468,\tval_loss: 2.9535\n",
      "114:\t[0s / 26s],\t\ttrain_loss: 2.8411,\tval_loss: 2.9701\n",
      "115:\t[0s / 26s],\t\ttrain_loss: 2.8370,\tval_loss: 2.9549\n",
      "116:\t[0s / 27s],\t\ttrain_loss: 2.8262,\tval_loss: 2.9670\n",
      "117:\t[0s / 27s],\t\ttrain_loss: 2.8333,\tval_loss: 2.9685\n",
      "118:\t[0s / 27s],\t\ttrain_loss: 2.8478,\tval_loss: 2.9388\n",
      "119:\t[0s / 27s],\t\ttrain_loss: 2.8306,\tval_loss: 2.9893\n",
      "120:\t[0s / 28s],\t\ttrain_loss: 2.8307,\tval_loss: 2.9364\n",
      "121:\t[0s / 28s],\t\ttrain_loss: 2.8354,\tval_loss: 2.9624\n",
      "122:\t[0s / 28s],\t\ttrain_loss: 2.8268,\tval_loss: 2.9415\n",
      "123:\t[0s / 28s],\t\ttrain_loss: 2.8329,\tval_loss: 2.9390\n",
      "124:\t[0s / 28s],\t\ttrain_loss: 2.8198,\tval_loss: 2.9389\n",
      "125:\t[0s / 29s],\t\ttrain_loss: 2.8111,\tval_loss: 2.9363\n",
      "126:\t[0s / 29s],\t\ttrain_loss: 2.8141,\tval_loss: 2.9539\n",
      "127:\t[0s / 29s],\t\ttrain_loss: 2.8076,\tval_loss: 2.9234\n",
      "128:\t[0s / 29s],\t\ttrain_loss: 2.8099,\tval_loss: 2.9338\n",
      "129:\t[0s / 30s],\t\ttrain_loss: 2.8009,\tval_loss: 2.9311\n",
      "130:\t[0s / 30s],\t\ttrain_loss: 2.7975,\tval_loss: 2.9476\n",
      "131:\t[0s / 30s],\t\ttrain_loss: 2.8035,\tval_loss: 2.9375\n",
      "132:\t[0s / 30s],\t\ttrain_loss: 2.7999,\tval_loss: 2.9273\n",
      "133:\t[0s / 31s],\t\ttrain_loss: 2.7934,\tval_loss: 2.9247\n",
      "134:\t[0s / 31s],\t\ttrain_loss: 2.7982,\tval_loss: 2.9409\n",
      "135:\t[0s / 31s],\t\ttrain_loss: 2.8083,\tval_loss: 2.9292\n",
      "136:\t[0s / 31s],\t\ttrain_loss: 2.7946,\tval_loss: 2.9179\n",
      "137:\t[0s / 31s],\t\ttrain_loss: 2.7982,\tval_loss: 2.9182\n",
      "138:\t[0s / 32s],\t\ttrain_loss: 2.7780,\tval_loss: 2.9412\n",
      "139:\t[0s / 32s],\t\ttrain_loss: 2.7895,\tval_loss: 2.9158\n",
      "140:\t[0s / 32s],\t\ttrain_loss: 2.7943,\tval_loss: 2.9530\n",
      "141:\t[0s / 32s],\t\ttrain_loss: 2.7842,\tval_loss: 2.9165\n",
      "142:\t[0s / 33s],\t\ttrain_loss: 2.7922,\tval_loss: 2.9242\n",
      "143:\t[0s / 33s],\t\ttrain_loss: 2.7796,\tval_loss: 2.9361\n",
      "144:\t[0s / 33s],\t\ttrain_loss: 2.7790,\tval_loss: 2.9241\n",
      "145:\t[0s / 33s],\t\ttrain_loss: 2.7811,\tval_loss: 2.9178\n",
      "146:\t[0s / 34s],\t\ttrain_loss: 2.7735,\tval_loss: 2.9222\n",
      "147:\t[0s / 34s],\t\ttrain_loss: 2.7708,\tval_loss: 2.9411\n",
      "148:\t[0s / 34s],\t\ttrain_loss: 2.7634,\tval_loss: 2.9333\n",
      "149:\t[0s / 34s],\t\ttrain_loss: 2.7798,\tval_loss: 2.9222\n"
     ]
    }
   ],
   "source": [
    "callbacks = [tt.callbacks.EarlyStopping()]\n",
    "\n",
    "log = model.fit_dataloader(train_loader, \n",
    "                           epochs=3000, \n",
    "                           callbacks=callbacks,\n",
    "                           val_dataloader=val_loader)"
   ]
  },
  {
   "cell_type": "code",
   "execution_count": 16,
   "id": "2b7e3c07",
   "metadata": {},
   "outputs": [
    {
     "data": {
      "text/plain": [
       "<Axes: >"
      ]
     },
     "execution_count": 16,
     "metadata": {},
     "output_type": "execute_result"
    },
    {
     "data": {
      "image/png": "[encoded data removed]",
      "text/plain": [
       "<Figure size 640x480 with 1 Axes>"
      ]
     },
     "metadata": {},
     "output_type": "display_data"
    }
   ],
   "source": [
    "log.plot()"
   ]
  },
  {
   "cell_type": "markdown",
   "id": "b14612c2",
   "metadata": {},
   "source": [
    "## Evaluation"
   ]
  },
  {
   "cell_type": "code",
   "execution_count": 17,
   "id": "9deda10c",
   "metadata": {},
   "outputs": [],
   "source": [
    "x_test = []\n",
    "y_test = []\n",
    "\n",
    "for x,y in test_ds:\n",
    "    x_test.append(x.numpy())\n",
    "    y_test.append(y.numpy())\n",
    "    \n",
    "x_test = np.array(x_test)\n",
    "y_test = np.array(y_test)\n",
    "\n",
    "durations_test, events_test = y_test.T"
   ]
  },
  {
   "cell_type": "code",
   "execution_count": 18,
   "id": "38a191fb",
   "metadata": {},
   "outputs": [],
   "source": [
    "surv = model.interpolate(100).predict_surv_df(x_test)"
   ]
  },
  {
   "cell_type": "code",
   "execution_count": 19,
   "id": "8f45cf35",
   "metadata": {},
   "outputs": [
    {
     "data": {
      "image/png": "[encoded data removed]",
      "text/plain": [
       "<Figure size 640x480 with 1 Axes>"
      ]
     },
     "metadata": {},
     "output_type": "display_data"
    }
   ],
   "source": [
    "surv.iloc[:, -5:].plot(drawstyle='steps-post')\n",
    "plt.ylabel('S(t | x)')\n",
    "_ = plt.xlabel('Time')"
   ]
  },
  {
   "cell_type": "code",
   "execution_count": 20,
   "id": "e17da1e7",
   "metadata": {},
   "outputs": [
    {
     "data": {
      "text/plain": [
       "(array([187.8666687 ,  57.66666794, 213.8999939 ,  51.        ,\n",
       "        111.69999695]),\n",
       " array([1., 1., 0., 1., 1.]))"
      ]
     },
     "execution_count": 20,
     "metadata": {},
     "output_type": "execute_result"
    }
   ],
   "source": [
    "durations_test[-5:], events_test[-5:]"
   ]
  },
  {
   "cell_type": "markdown",
   "id": "4cfd1dc9",
   "metadata": {},
   "source": [
    "## Evaluation"
   ]
  },
  {
   "cell_type": "code",
   "execution_count": 21,
   "id": "536f95ac",
   "metadata": {},
   "outputs": [
    {
     "name": "stderr",
     "output_type": "stream",
     "text": [
      "/Users/yuhosang/Projects/deep-dialysis.pytorch/venv/lib/python3.10/site-packages/pycox/evaluation/eval_surv.py:36: FutureWarning: is_monotonic is deprecated and will be removed in a future version. Use is_monotonic_increasing instead.\n",
      "  assert pd.Series(self.index_surv).is_monotonic\n"
     ]
    }
   ],
   "source": [
    "from pycox.evaluation import EvalSurv\n",
    "\n",
    "ev = EvalSurv(surv, durations_test, events_test, censor_surv='km')"
   ]
  },
  {
   "cell_type": "code",
   "execution_count": 22,
   "id": "697c9fad",
   "metadata": {},
   "outputs": [
    {
     "data": {
      "text/plain": [
       "0.6719841476351555"
      ]
     },
     "execution_count": 22,
     "metadata": {},
     "output_type": "execute_result"
    }
   ],
   "source": [
    "ev.concordance_td('antolini')"
   ]
  },
  {
   "cell_type": "code",
   "execution_count": null,
   "id": "b2404c9b",
   "metadata": {},
   "outputs": [],
   "source": [
    "!rm *.pt"
   ]
  },
  {
   "cell_type": "code",
   "execution_count": null,
   "id": "8c7bff12",
   "metadata": {},
   "outputs": [],
   "source": [
    "# support : 0.6967800877342815 (test: 0.3, valid: 0.1)\n",
    "# 0.7339499777570538 (test: 0.2, valid: 0.2)\n",
    "\n",
    "# metabric : 0.6951326831481062 (test: 0.3, valid: 0.1)\n",
    "# 0.6719841476351555 (test: 0.2, valid: 0.2)"
   ]
  },
  {
   "cell_type": "code",
   "execution_count": null,
   "id": "82b57a18",
   "metadata": {},
   "outputs": [],
   "source": []
  }
 ],
 "metadata": {
  "kernelspec": {
   "display_name": "Python 3 (ipykernel)",
   "language": "python",
   "name": "python3"
  },
  "language_info": {
   "codemirror_mode": {
    "name": "ipython",
    "version": 3
   },
   "file_extension": ".py",
   "mimetype": "text/x-python",
   "name": "python",
   "nbconvert_exporter": "python",
   "pygments_lexer": "ipython3",
   "version": "3.10.0"
  }
 },
 "nbformat": 4,
 "nbformat_minor": 5
}
